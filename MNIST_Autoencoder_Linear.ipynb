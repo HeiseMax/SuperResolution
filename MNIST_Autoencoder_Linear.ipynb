{
 "cells": [
  {
   "cell_type": "code",
   "execution_count": 1,
   "metadata": {},
   "outputs": [
    {
     "name": "stdout",
     "output_type": "stream",
     "text": [
      "cuda\n"
     ]
    }
   ],
   "source": [
    "import random\n",
    "import math\n",
    "import numpy as np\n",
    "from sklearn.datasets import make_moons\n",
    "from sklearn.datasets import load_digits\n",
    "from sklearn.model_selection import train_test_split\n",
    "from sklearn.mixture import GaussianMixture\n",
    "from sklearn.preprocessing import StandardScaler\n",
    "from sklearn.decomposition import PCA\n",
    "from sklearn.ensemble import RandomForestClassifier\n",
    "from sklearn.metrics import accuracy_score\n",
    "import torch\n",
    "import torch.nn as nn\n",
    "import torch.optim as optim\n",
    "from torch.autograd import Variable\n",
    "import matplotlib.pyplot as plt\n",
    "from torch.optim.lr_scheduler import ReduceLROnPlateau\n",
    "import torch.nn.functional as nnf\n",
    "\n",
    "from util import load_MNIST\n",
    "\n",
    "cuda = True\n",
    "DEVICE = torch.device(\"cuda\" if cuda and torch.cuda.is_available() else \"cpu\")\n",
    "print(DEVICE)"
   ]
  },
  {
   "cell_type": "code",
   "execution_count": 2,
   "metadata": {},
   "outputs": [],
   "source": [
    "# define the autoencoder model\n",
    "# class Autoencoder(nn.Module):\n",
    "#     def __init__(self, input_size, hidden_size, bottleneck_size, layers):\n",
    "#         super(Autoencoder, self).__init__()\n",
    "\n",
    "#         assert(layers >= 2) # the network must have at least 2 layers\n",
    "#         layers = layers - 2\n",
    "#         # construct the encoder's interior layers as linear + relu\n",
    "#         self.encoder = nn.Sequential(\n",
    "#             nn.Linear(input_size, hidden_size),\n",
    "#             nn.ReLU()\n",
    "#             )\n",
    "#         for i in range(1, layers):\n",
    "#             self.encoder.add_module(str(2*i), nn.Linear(hidden_size, hidden_size))\n",
    "#             self.encoder.add_module(str(2*i+1), nn.ReLU())\n",
    "#         # the output layer is just linear\n",
    "#         self.encoder.add_module(str(2*layers), nn.Linear(hidden_size, bottleneck_size))\n",
    "\n",
    "#         # likewise for the decoder\n",
    "#         self.decoder = nn.Sequential(\n",
    "#             nn.Linear(bottleneck_size, hidden_size),\n",
    "#             nn.ReLU()\n",
    "#             )\n",
    "#         for i in range(1, layers):\n",
    "#             self.decoder.add_module(str(2*i), nn.Linear(hidden_size, hidden_size))\n",
    "#             self.decoder.add_module(str(2*i+1), nn.ReLU())\n",
    "#         self.decoder.add_module(str(2*layers), nn.Linear(hidden_size, input_size))\n",
    "\n",
    "#     def encode(self, x):\n",
    "#         '''map data to code space'''\n",
    "#         x = self.encoder(x)\n",
    "#         return x\n",
    "    \n",
    "#     def decode(self, x):\n",
    "#         '''map data from code space back to data space'''\n",
    "#         x = self.decoder(x)\n",
    "#         return x\n",
    "\n",
    "#     def forward(self, x):\n",
    "#         '''compress and uncompress data (forward function required by pytorch nn.Module)'''\n",
    "#         x = self.encode(x)\n",
    "#         x = self.decode(x)\n",
    "#         return x\n",
    "\n",
    "# def train_autoencoder(model, X_train, num_epochs=100, batch_size=32, lr=0.001, caption=\"autoencoder\"):\n",
    "#     # define the loss function and optimizer according to task description\n",
    "#     optimizer = optim.Adam(model.parameters(), lr=lr)\n",
    "#     criterion = nn.MSELoss()\n",
    "#     # train the model\n",
    "#     indices = list(range(len(X_train)))\n",
    "#     for epoch in range(num_epochs):\n",
    "#         for i in range(0, len(X_train), batch_size):\n",
    "#             # get a random batch of data\n",
    "#             random.shuffle(indices)\n",
    "#             batch = torch.tensor(X_train[indices[i:i+batch_size]], dtype=torch.float32).to(DEVICE)\n",
    "#             # forward pass\n",
    "#             output = model.forward(batch)\n",
    "        #     loss = criterion(output, batch)\n",
    "\n",
    "        #     # backpropagation\n",
    "        #     optimizer.zero_grad()\n",
    "        #     loss.backward()\n",
    "        #     optimizer.step()\n",
    "        # # print the loss every 10 epochs\n",
    "        # if (epoch+1) % 10 == 0:\n",
    "        #     print(f\"Epoch [{epoch+1}/{num_epochs}], Loss: {loss.item():.4f}\")"
   ]
  },
  {
   "cell_type": "code",
   "execution_count": 3,
   "metadata": {},
   "outputs": [],
   "source": [
    "# Load the digits dataset\n",
    "#digits = load_digits()\n",
    "# Split the dataset into train and test sets\n",
    "#X_train_digits, X_test_digits, y_train_digits, y_test_digits = train_test_split(digits.data, digits.target, test_size=0.2, random_state=42)\n",
    "# Scale the data\n",
    "#scaler = StandardScaler()\n",
    "#X_train_digits = scaler.fit_transform(X_train_digits)\n",
    "#X_test_digits = scaler.transform(X_test_digits)"
   ]
  },
  {
   "cell_type": "code",
   "execution_count": 4,
   "metadata": {},
   "outputs": [],
   "source": [
    "def plot_digits_reconstructions(model, X_test, title=\"\"):\n",
    "    # reconstruct the test set\n",
    "    with torch.no_grad():\n",
    "        decoded = model.forward(torch.tensor(X_test, dtype=torch.float32)).to(\"cpu\")\n",
    "    # plot the original and reconstructed test set\n",
    "    fig, axes = plt.subplots(nrows=3, ncols=10, figsize=(10, 2))\n",
    "    fig.suptitle(\"Originals (top), differences (center), and reconstructions (bottom)\" + title)\n",
    "    for i in range(10):\n",
    "        # normalize decoded by the inter-quartile range (IQR) of X_test\n",
    "        # to make the difference more meaningful\n",
    "        qt1, qt3 = np.quantile(X_test[i], [0.25, 0.75])\n",
    "        qd1, qd3 = np.quantile(decoded[i], [0.25, 0.75])\n",
    "        iqr_ratio = (qt3 - qt1) / (qd3 - qd1)\n",
    "        decoded[i] = decoded[i] * iqr_ratio\n",
    "        # compute the difference between the original and reconstructed image\n",
    "        diff = X_test[i] - decoded[i].numpy()\n",
    "        # plot the original, difference, and reconstructed image\n",
    "        axes[0][i].imshow(X_test[i].reshape(8, 8), cmap='gray')\n",
    "        axes[1][i].imshow(diff.reshape(8, 8), cmap='gray')\n",
    "        axes[2][i].imshow(decoded[i].reshape(8, 8), cmap='gray')\n",
    "        # remove axis ticks for images\n",
    "        for k in range(3):\n",
    "            axes[k][i].set_xticks([])\n",
    "            axes[k][i].set_yticks([])"
   ]
  },
  {
   "cell_type": "code",
   "execution_count": 5,
   "metadata": {},
   "outputs": [],
   "source": [
    "# train an autoencoder with bottleneck size 2 (note: data dimension is 64=8x8)\n",
    "#model_digits_2 = Autoencoder(input_size=X_train_digits.shape[1], hidden_size=64, bottleneck_size=2, layers=5).to(DEVICE)\n",
    "#train_autoencoder(model_digits_2, X_train_digits, num_epochs=1000, batch_size=256, lr=0.001)\n",
    "#model_digits_2 = model_digits_2.to(\"cpu\")\n",
    "#plot_digits_reconstructions(model_digits_2, X_test_digits, \", bottleneck size 2\")"
   ]
  },
  {
   "cell_type": "code",
   "execution_count": 6,
   "metadata": {},
   "outputs": [],
   "source": [
    "class Encoder(nn.Module):\n",
    "    def __init__(self, input_size, hidden_size, bottleneck_size, layers):\n",
    "        super(Encoder, self).__init__()\n",
    "\n",
    "        assert(layers >= 2) # the network must have at least 2 layers\n",
    "        layers = layers - 2\n",
    "        # construct the encoder's interior layers as linear + relu\n",
    "        self.encoder = nn.Sequential(\n",
    "            nn.Linear(input_size, hidden_size),\n",
    "            nn.ReLU()\n",
    "            )\n",
    "        for i in range(1, layers):\n",
    "            self.encoder.add_module(str(2*i), nn.Linear(hidden_size, hidden_size))\n",
    "            self.encoder.add_module(str(2*i+1), nn.ReLU())\n",
    "        # the output layer is just linear\n",
    "        self.encoder.add_module(str(2*layers), nn.Linear(hidden_size, bottleneck_size))\n",
    "\n",
    "    def forward(self, x):\n",
    "        '''compress data to code space'''\n",
    "        x = self.encoder(x)\n",
    "        return x\n",
    "    \n",
    "class Decoder(nn.Module):\n",
    "    def __init__(self, bottleneck_size, hidden_size, output_size, layers):\n",
    "        super(Decoder, self).__init__()\n",
    "\n",
    "        assert(layers >= 2) # the network must have at least 2 layers\n",
    "        layers = layers - 2\n",
    "        # construct the decoder's interior layers as linear + relu\n",
    "        self.decoder = nn.Sequential(\n",
    "            nn.Linear(bottleneck_size, hidden_size),\n",
    "            nn.ReLU()\n",
    "            )\n",
    "        for i in range(1, layers):\n",
    "            self.decoder.add_module(str(2*i), nn.Linear(hidden_size, hidden_size))\n",
    "            self.decoder.add_module(str(2*i+1), nn.ReLU())\n",
    "        self.decoder.add_module(str(2*layers), nn.Linear(hidden_size, output_size))\n",
    "\n",
    "    def forward(self, x):\n",
    "        '''compress data to code space'''\n",
    "        x = self.decoder(x)\n",
    "        return x\n",
    "\n",
    "class Autoencoder(nn.Module):\n",
    "    def __init__(self, Encoder, Decoder):\n",
    "        super(Autoencoder, self).__init__()\n",
    "        self.encoder = Encoder\n",
    "        self.decoder = Decoder\n",
    "        self.loss = []\n",
    "\n",
    "    def encode(self, x):\n",
    "        '''map data to code space'''\n",
    "        x = self.encoder(x)\n",
    "        return x\n",
    "    \n",
    "    def decode(self, x):\n",
    "        '''map data from code space back to data space'''\n",
    "        x = self.decoder(x)\n",
    "        return x\n",
    "\n",
    "    def forward(self, x):\n",
    "        '''compress and uncompress data (forward function required by pytorch nn.Module)'''\n",
    "        x = self.encode(x)\n",
    "        x = self.decode(x)\n",
    "        return x"
   ]
  },
  {
   "cell_type": "code",
   "execution_count": 7,
   "metadata": {},
   "outputs": [],
   "source": [
    "x_dim = 28\n",
    "\n",
    "scale_factor = 2\n",
    "x_inp_dim  = int(x_dim / scale_factor)\n",
    "\n",
    "\n",
    "hidden_dim = 200\n",
    "\n",
    "lr = 1e-3\n",
    "epochs = 100\n",
    "batch_size = 4096\n",
    "\n",
    "train_dataset, test_dataset, train_loader, test_loader, classes = load_MNIST(batch_size, None)\n",
    "num_train_data = len(train_dataset)\n",
    "\n",
    "def loss_function(x, x_hat, mean, log_var):\n",
    "    reproduction_loss = nn.functional.binary_cross_entropy(x_hat, x, reduction='sum')\n",
    "    KLD = -0.5 * torch.sum(1+ log_var - mean.pow(2) - log_var.exp())\n",
    "\n",
    "    return reproduction_loss + KLD"
   ]
  },
  {
   "cell_type": "code",
   "execution_count": 8,
   "metadata": {},
   "outputs": [],
   "source": [
    "encoder = Encoder(bottleneck_size=32 ,input_size=x_inp_dim**2, hidden_size=hidden_dim, layers=5)\n",
    "decoder = Decoder(bottleneck_size=32  , hidden_size = hidden_dim, output_size = x_dim**2, layers=5)\n",
    "\n",
    "model = Autoencoder(Encoder=encoder, Decoder=decoder).to(DEVICE)"
   ]
  },
  {
   "cell_type": "code",
   "execution_count": 9,
   "metadata": {},
   "outputs": [
    {
     "name": "stdout",
     "output_type": "stream",
     "text": [
      "Epoch [10/100], Loss: 0.0560\n",
      "Epoch [20/100], Loss: 0.0365\n",
      "Epoch [30/100], Loss: 0.0294\n",
      "Epoch [40/100], Loss: 0.0265\n",
      "Epoch [50/100], Loss: 0.0237\n",
      "Epoch [60/100], Loss: 0.0217\n",
      "Epoch [70/100], Loss: 0.0205\n",
      "Epoch [80/100], Loss: 0.0195\n",
      "Epoch [90/100], Loss: 0.0184\n",
      "Epoch [100/100], Loss: 0.0176\n"
     ]
    }
   ],
   "source": [
    "optimizer = optim.Adam(model.parameters(), lr=lr)\n",
    "criterion = nn.MSELoss()\n",
    "# train the model\n",
    "for epoch in range(epochs):\n",
    "    overall_loss = 0\n",
    "    for batch_idx, (x, _) in enumerate(train_loader):\n",
    "        x_inp = nnf.interpolate(x, size=(x_inp_dim, x_inp_dim), mode='bicubic', align_corners=False)\n",
    "        x_inp = x_inp.view(-1, x_inp_dim**2)\n",
    "        x_inp = x_inp.to(DEVICE)\n",
    "\n",
    "        x = x.view(-1, x_dim**2)\n",
    "        x = x.to(DEVICE)\n",
    "        optimizer.zero_grad()\n",
    "\n",
    "        x_hat = model.forward(x_inp)\n",
    "\n",
    "        loss = criterion(x_hat, x)\n",
    "        overall_loss += loss.item() / num_train_data\n",
    "        # backpropagation\n",
    "        loss.backward()\n",
    "        optimizer.step()\n",
    "    # print the loss every 10 epochs\n",
    "    if (epoch+1) % 10 == 0:\n",
    "        print(f\"Epoch [{epoch+1}/{epochs}], Loss: {loss.item():.4f}\")\n",
    "\n",
    "    model.loss.append(overall_loss)"
   ]
  },
  {
   "cell_type": "code",
   "execution_count": 10,
   "metadata": {},
   "outputs": [
    {
     "data": {
      "text/plain": [
       "[]"
      ]
     },
     "execution_count": 10,
     "metadata": {},
     "output_type": "execute_result"
    },
    {
     "data": {
      "image/png": "[encoded data removed]",
      "text/plain": [
       "<Figure size 640x480 with 1 Axes>"
      ]
     },
     "metadata": {},
     "output_type": "display_data"
    }
   ],
   "source": [
    "plt.plot(model.loss)\n",
    "plt.xlabel('Epochs')\n",
    "plt.ylabel('Loss')\n",
    "plt.plot()"
   ]
  },
  {
   "cell_type": "code",
   "execution_count": 11,
   "metadata": {},
   "outputs": [
    {
     "name": "stderr",
     "output_type": "stream",
     "text": [
      "  0%|          | 0/3 [00:04<?, ?it/s]\n"
     ]
    }
   ],
   "source": [
    "from tqdm import tqdm\n",
    "with torch.no_grad():\n",
    "    for batch_idx, (x, _) in enumerate(tqdm(test_loader)):\n",
    "        x_inp = nnf.interpolate(x, size=(x_inp_dim, x_inp_dim), mode='bicubic', align_corners=False)\n",
    "        x_inp = x_inp.view(batch_size, x_inp_dim**2)\n",
    "        x_inp = x_inp.to(DEVICE)\n",
    "\n",
    "        x = x.view(batch_size, x_dim**2)\n",
    "        x = x.to(DEVICE)\n",
    "\n",
    "        x_hat = model(x_inp)\n",
    "\n",
    "        break"
   ]
  },
  {
   "cell_type": "code",
   "execution_count": 12,
   "metadata": {},
   "outputs": [],
   "source": [
    "def show_image(x, x_inp, x_hat, n):\n",
    "    x = x.view(batch_size, 1, x_dim, x_dim)\n",
    "    x_inp = x_inp.view(batch_size, 1, x_inp_dim, x_inp_dim)\n",
    "    x_hat = x_hat.view(batch_size, 1, x_dim, x_dim)\n",
    "\n",
    "\n",
    "    fig, axs = plt.subplots(3, n, figsize=(20, 6))\n",
    "    for i in range(n):\n",
    "        axs[0, i].imshow(x[i].permute(1, 2, 0).cpu().numpy(),)\n",
    "        axs[0, i].axis('off')\n",
    "\n",
    "        axs[1, i].imshow(x_inp[i].permute(1, 2, 0).cpu().numpy())\n",
    "        axs[1, i].axis('off')\n",
    "\n",
    "        axs[2, i].imshow(x_hat[i].permute(1, 2, 0).cpu().numpy())\n",
    "        axs[2, i].axis('off')"
   ]
  },
  {
   "cell_type": "code",
   "execution_count": 13,
   "metadata": {},
   "outputs": [
    {
     "data": {
      "image/png": "[encoded data removed]",
      "text/plain": [
       "<Figure size 2000x600 with 24 Axes>"
      ]
     },
     "metadata": {},
     "output_type": "display_data"
    }
   ],
   "source": [
    "show_image(x, x_inp, x_hat, 8)"
   ]
  },
  {
   "cell_type": "code",
   "execution_count": 22,
   "metadata": {},
   "outputs": [
    {
     "name": "stderr",
     "output_type": "stream",
     "text": [
      "c:\\Users\\Kevin\\AppData\\Local\\Programs\\Python\\Python313\\Lib\\site-packages\\torchvision\\models\\_utils.py:208: UserWarning: The parameter 'pretrained' is deprecated since 0.13 and may be removed in the future, please use 'weights' instead.\n",
      "  warnings.warn(\n",
      "c:\\Users\\Kevin\\AppData\\Local\\Programs\\Python\\Python313\\Lib\\site-packages\\torchvision\\models\\_utils.py:223: UserWarning: Arguments other than a weight enum or `None` for 'weights' are deprecated since 0.13 and may be removed in the future. The current behavior is equivalent to passing `weights=VGG16_Weights.IMAGENET1K_V1`. You can also use `weights=VGG16_Weights.DEFAULT` to get the most up-to-date weights.\n",
      "  warnings.warn(msg)\n"
     ]
    },
    {
     "ename": "AssertionError",
     "evalue": "Expected values to be greater or equal to 0, got -0.25853630900382996",
     "output_type": "error",
     "traceback": [
      "\u001b[31m---------------------------------------------------------------------------\u001b[39m",
      "\u001b[31mAssertionError\u001b[39m                            Traceback (most recent call last)",
      "\u001b[36mCell\u001b[39m\u001b[36m \u001b[39m\u001b[32mIn[22]\u001b[39m\u001b[32m, line 39\u001b[39m\n\u001b[32m     35\u001b[39m     lpips_diversity_val /= n_samples\n\u001b[32m     37\u001b[39m     \u001b[38;5;28;01mreturn\u001b[39;00m psnr_val, ssim_val, lpips_val, brisque_val, psnr_consistency_val, mse_diversity_val, lpips_diversity_val\n\u001b[32m---> \u001b[39m\u001b[32m39\u001b[39m psnr_val, ssim_val, lpips_val, brisque_val, psnr_consistency_val, mse_diversity_val, lpips_diversity_val = \u001b[43mvalidation_scores\u001b[49m\u001b[43m(\u001b[49m\u001b[43mmodel\u001b[49m\u001b[43m,\u001b[49m\u001b[43m \u001b[49m\u001b[43mx\u001b[49m\u001b[43m,\u001b[49m\u001b[43m \u001b[49m\u001b[43mx_inp\u001b[49m\u001b[43m)\u001b[49m\n\u001b[32m     40\u001b[39m \u001b[38;5;28mprint\u001b[39m(\u001b[33m\"\u001b[39m\u001b[33mPSNR:\u001b[39m\u001b[33m\"\u001b[39m, psnr_val)\n\u001b[32m     41\u001b[39m \u001b[38;5;28mprint\u001b[39m(\u001b[33m\"\u001b[39m\u001b[33mSSIM:\u001b[39m\u001b[33m\"\u001b[39m, ssim_val.mean())\n",
      "\u001b[36mCell\u001b[39m\u001b[36m \u001b[39m\u001b[32mIn[22]\u001b[39m\u001b[32m, line 21\u001b[39m, in \u001b[36mvalidation_scores\u001b[39m\u001b[34m(model, HR, LR)\u001b[39m\n\u001b[32m     18\u001b[39m HR_downsampled = nnf.interpolate(HR, size=(LR.size(\u001b[32m2\u001b[39m), LR.size(\u001b[32m3\u001b[39m)), mode=\u001b[33m'\u001b[39m\u001b[33mbicubic\u001b[39m\u001b[33m'\u001b[39m, align_corners=\u001b[38;5;28;01mFalse\u001b[39;00m)\n\u001b[32m     19\u001b[39m HR_downsampled = (HR_downsampled - HR_downsampled.min()) / (HR_downsampled.max() - HR_downsampled.min())\n\u001b[32m---> \u001b[39m\u001b[32m21\u001b[39m psnr_consistency_val = \u001b[43mpsnr\u001b[49m\u001b[43m(\u001b[49m\u001b[43mLR\u001b[49m\u001b[43m,\u001b[49m\u001b[43m \u001b[49m\u001b[43mHR_downsampled\u001b[49m\u001b[43m,\u001b[49m\u001b[43m \u001b[49m\u001b[43mdata_range\u001b[49m\u001b[43m=\u001b[49m\u001b[32;43m1.0\u001b[39;49m\u001b[43m)\u001b[49m\n\u001b[32m     23\u001b[39m mse_diversity_val = \u001b[32m0\u001b[39m\n\u001b[32m     24\u001b[39m lpips_diversity_val = \u001b[32m0\u001b[39m\n",
      "\u001b[36mFile \u001b[39m\u001b[32mc:\\Users\\Kevin\\AppData\\Local\\Programs\\Python\\Python313\\Lib\\site-packages\\piq\\psnr.py:29\u001b[39m, in \u001b[36mpsnr\u001b[39m\u001b[34m(x, y, data_range, reduction, convert_to_greyscale)\u001b[39m\n\u001b[32m      9\u001b[39m \u001b[38;5;28;01mdef\u001b[39;00m\u001b[38;5;250m \u001b[39m\u001b[34mpsnr\u001b[39m(x: torch.Tensor, y: torch.Tensor, data_range: Union[\u001b[38;5;28mint\u001b[39m, \u001b[38;5;28mfloat\u001b[39m] = \u001b[32m1.0\u001b[39m,\n\u001b[32m     10\u001b[39m          reduction: \u001b[38;5;28mstr\u001b[39m = \u001b[33m'\u001b[39m\u001b[33mmean\u001b[39m\u001b[33m'\u001b[39m, convert_to_greyscale: \u001b[38;5;28mbool\u001b[39m = \u001b[38;5;28;01mFalse\u001b[39;00m) -> torch.Tensor:\n\u001b[32m     11\u001b[39m \u001b[38;5;250m    \u001b[39m\u001b[33mr\u001b[39m\u001b[33;03m\"\"\"Compute Peak Signal-to-Noise Ratio for a batch of images.\u001b[39;00m\n\u001b[32m     12\u001b[39m \u001b[33;03m    Supports both greyscale and color images with RGB channel order.\u001b[39;00m\n\u001b[32m     13\u001b[39m \n\u001b[32m   (...)\u001b[39m\u001b[32m     27\u001b[39m \u001b[33;03m        https://en.wikipedia.org/wiki/Peak_signal-to-noise_ratio\u001b[39;00m\n\u001b[32m     28\u001b[39m \u001b[33;03m    \"\"\"\u001b[39;00m\n\u001b[32m---> \u001b[39m\u001b[32m29\u001b[39m     \u001b[43m_validate_input\u001b[49m\u001b[43m(\u001b[49m\u001b[43m[\u001b[49m\u001b[43mx\u001b[49m\u001b[43m,\u001b[49m\u001b[43m \u001b[49m\u001b[43my\u001b[49m\u001b[43m]\u001b[49m\u001b[43m,\u001b[49m\u001b[43m \u001b[49m\u001b[43mdim_range\u001b[49m\u001b[43m=\u001b[49m\u001b[43m(\u001b[49m\u001b[32;43m4\u001b[39;49m\u001b[43m,\u001b[49m\u001b[43m \u001b[49m\u001b[32;43m5\u001b[39;49m\u001b[43m)\u001b[49m\u001b[43m,\u001b[49m\u001b[43m \u001b[49m\u001b[43mdata_range\u001b[49m\u001b[43m=\u001b[49m\u001b[43m(\u001b[49m\u001b[32;43m0\u001b[39;49m\u001b[43m,\u001b[49m\u001b[43m \u001b[49m\u001b[43mdata_range\u001b[49m\u001b[43m)\u001b[49m\u001b[43m)\u001b[49m\n\u001b[32m     31\u001b[39m     \u001b[38;5;66;03m# Constant for numerical stability\u001b[39;00m\n\u001b[32m     32\u001b[39m     EPS = \u001b[32m1e-8\u001b[39m\n",
      "\u001b[36mFile \u001b[39m\u001b[32mc:\\Users\\Kevin\\AppData\\Local\\Programs\\Python\\Python313\\Lib\\site-packages\\piq\\utils\\common.py:100\u001b[39m, in \u001b[36m_validate_input\u001b[39m\u001b[34m(tensors, dim_range, data_range, size_range, check_for_channels_first)\u001b[39m\n\u001b[32m     96\u001b[39m     \u001b[38;5;28;01massert\u001b[39;00m dim_range[\u001b[32m0\u001b[39m] <= t.dim() <= dim_range[\u001b[32m1\u001b[39m], \\\n\u001b[32m     97\u001b[39m         \u001b[33mf\u001b[39m\u001b[33m'\u001b[39m\u001b[33mExpected number of dimensions to be between \u001b[39m\u001b[38;5;132;01m{\u001b[39;00mdim_range[\u001b[32m0\u001b[39m]\u001b[38;5;132;01m}\u001b[39;00m\u001b[33m and \u001b[39m\u001b[38;5;132;01m{\u001b[39;00mdim_range[\u001b[32m1\u001b[39m]\u001b[38;5;132;01m}\u001b[39;00m\u001b[33m, got \u001b[39m\u001b[38;5;132;01m{\u001b[39;00mt.dim()\u001b[38;5;132;01m}\u001b[39;00m\u001b[33m'\u001b[39m\n\u001b[32m     99\u001b[39m \u001b[38;5;28;01mif\u001b[39;00m data_range[\u001b[32m0\u001b[39m] < data_range[\u001b[32m1\u001b[39m]:\n\u001b[32m--> \u001b[39m\u001b[32m100\u001b[39m     \u001b[38;5;28;01massert\u001b[39;00m data_range[\u001b[32m0\u001b[39m] <= t.min(), \\\n\u001b[32m    101\u001b[39m         \u001b[33mf\u001b[39m\u001b[33m'\u001b[39m\u001b[33mExpected values to be greater or equal to \u001b[39m\u001b[38;5;132;01m{\u001b[39;00mdata_range[\u001b[32m0\u001b[39m]\u001b[38;5;132;01m}\u001b[39;00m\u001b[33m, got \u001b[39m\u001b[38;5;132;01m{\u001b[39;00mt.min()\u001b[38;5;132;01m}\u001b[39;00m\u001b[33m'\u001b[39m\n\u001b[32m    102\u001b[39m     \u001b[38;5;28;01massert\u001b[39;00m t.max() <= data_range[\u001b[32m1\u001b[39m], \\\n\u001b[32m    103\u001b[39m         \u001b[33mf\u001b[39m\u001b[33m'\u001b[39m\u001b[33mExpected values to be lower or equal to \u001b[39m\u001b[38;5;132;01m{\u001b[39;00mdata_range[\u001b[32m1\u001b[39m]\u001b[38;5;132;01m}\u001b[39;00m\u001b[33m, got \u001b[39m\u001b[38;5;132;01m{\u001b[39;00mt.max()\u001b[38;5;132;01m}\u001b[39;00m\u001b[33m'\u001b[39m\n\u001b[32m    105\u001b[39m \u001b[38;5;28;01mif\u001b[39;00m check_for_channels_first:\n",
      "\u001b[31mAssertionError\u001b[39m: Expected values to be greater or equal to 0, got -0.25853630900382996"
     ]
    }
   ],
   "source": [
    "from piq import psnr, ssim, brisque, LPIPS\n",
    "\n",
    "def validation_scores(model, HR, LR):\n",
    "    SR= model(LR)\n",
    "    HR = HR.view(-1, 1, x_dim, x_dim)\n",
    "    SR = SR.view(-1, 1, x_dim, x_dim)\n",
    "    SR = (SR - SR.min()) / (SR.max() - SR.min())\n",
    "    LR = LR.view(-1, 1, x_inp_dim, x_inp_dim)\n",
    "    psnr_val = psnr(HR, SR, data_range=1.0)\n",
    "\n",
    "    ssim_val = ssim(HR, SR, data_range=1.0, reduction='none')\n",
    "\n",
    "    lpips = LPIPS()\n",
    "    #lpips_val = lpips(HR, SR)\n",
    "    lpips_val = 0\n",
    "    brisque_val = brisque(SR)\n",
    "\n",
    "    HR_downsampled = nnf.interpolate(HR, size=(LR.size(2), LR.size(3)), mode='bicubic', align_corners=False)\n",
    "    HR_downsampled = (HR_downsampled - HR_downsampled.min()) / (HR_downsampled.max() - HR_downsampled.min())\n",
    "\n",
    "    psnr_consistency_val = psnr(LR, HR_downsampled, data_range=1.0)\n",
    "\n",
    "    mse_diversity_val = 0\n",
    "    lpips_diversity_val = 0\n",
    "    n_samples = 16\n",
    "    for i in range(n_samples):\n",
    "        LR_input = LR[i].unsqueeze(0)\n",
    "        LR_input = LR_input.repeat(32, 1, 1, 1)\n",
    "        HR_reference = HR[i].unsqueeze(0)\n",
    "        HR_reference = HR_reference.repeat(32, 1, 1, 1)\n",
    "        SR = model(LR_input)\n",
    "        mse_diversity_val += nn.functional.mse_loss(HR_reference, SR, reduction='mean')\n",
    "        lpips_diversity_val += lpips(HR_reference, SR)\n",
    "    mse_diversity_val /= n_samples\n",
    "    lpips_diversity_val /= n_samples\n",
    "\n",
    "    return psnr_val, ssim_val, lpips_val, brisque_val, psnr_consistency_val, mse_diversity_val, lpips_diversity_val\n",
    "\n",
    "psnr_val, ssim_val, lpips_val, brisque_val, psnr_consistency_val, mse_diversity_val, lpips_diversity_val = validation_scores(model, x, x_inp)\n",
    "print(\"PSNR:\", psnr_val)\n",
    "print(\"SSIM:\", ssim_val.mean())\n",
    "print(\"LPIPS:\", lpips_val)\n",
    "print(\"BRISQUE:\", brisque_val)\n",
    "print(\"PSNR Consistency:\", psnr_consistency_val)\n",
    "print(\"MSE Diversity:\", mse_diversity_val)\n",
    "print(\"LPIPS Diversity:\", lpips_diversity_val)"
   ]
  }
 ],
 "metadata": {
  "kernelspec": {
   "display_name": "Python 3",
   "language": "python",
   "name": "python3"
  },
  "language_info": {
   "codemirror_mode": {
    "name": "ipython",
    "version": 3
   },
   "file_extension": ".py",
   "mimetype": "text/x-python",
   "name": "python",
   "nbconvert_exporter": "python",
   "pygments_lexer": "ipython3",
   "version": "3.13.2"
  }
 },
 "nbformat": 4,
 "nbformat_minor": 2
}
