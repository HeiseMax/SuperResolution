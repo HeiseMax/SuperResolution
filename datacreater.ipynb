{
 "cells": [
  {
   "cell_type": "code",
   "execution_count": 5,
   "metadata": {},
   "outputs": [],
   "source": [
    "import numpy as np\n",
    "import torch\n",
    "\n",
    "import torchvision.transforms as transforms"
   ]
  },
  {
   "cell_type": "code",
   "execution_count": 4,
   "metadata": {},
   "outputs": [
    {
     "name": "stdout",
     "output_type": "stream",
     "text": [
      "cuda\n",
      "(50000, 32, 32, 3)\n",
      "uint8\n"
     ]
    }
   ],
   "source": [
    "dataset_path = \"cifar10_images.npy\"\n",
    "device = \"cuda\" if torch.cuda.is_available() else \"cpu\"\n",
    "print(device)\n",
    "\n",
    "digits_data = np.load(dataset_path)\n",
    "print(digits_data.shape)\n",
    "print(digits_data.dtype)\n",
    "# Convert to float and normalize to [0,1]\n",
    "digits_data = digits_data.astype(np.float32) / 255.0\n",
    "\n",
    "# Model nimmt [N, C, Height, Width] -> permutation\n",
    "digits_data = torch.tensor(digits_data).permute(0, 3, 1, 2)"
   ]
  },
  {
   "cell_type": "code",
   "execution_count": 7,
   "metadata": {},
   "outputs": [
    {
     "name": "stdout",
     "output_type": "stream",
     "text": [
      "torch.Size([50000, 3, 16, 16])\n"
     ]
    }
   ],
   "source": [
    "trans = transforms.Resize((16, 16))\n",
    "lr_data = trans(digits_data)\n",
    "print(lr_data.shape)"
   ]
  },
  {
   "cell_type": "code",
   "execution_count": 8,
   "metadata": {},
   "outputs": [],
   "source": [
    "np.save(\"cifar10_images_16.npy\", lr_data.permute(0, 2, 3, 1).numpy())"
   ]
  },
  {
   "cell_type": "code",
   "execution_count": 9,
   "metadata": {},
   "outputs": [
    {
     "name": "stdout",
     "output_type": "stream",
     "text": [
      "(50000, 16, 16, 3)\n",
      "torch.Size([50000, 3, 16, 16])\n",
      "torch.float32\n",
      "tensor(0.) tensor(1.)\n"
     ]
    }
   ],
   "source": [
    "dataset_path = \"cifar10_images_16.npy\"\n",
    "digits_data = np.load(dataset_path)\n",
    "print(digits_data.shape)\n",
    "\n",
    "# Convert to float and normalize to [0,1]\n",
    "# digits_data = digits_data.astype(np.float32) / 255.0\n",
    "# Model nimmt [N, C, Height, Width] -> permutation\n",
    "digits_data = torch.tensor(digits_data).permute(0, 3, 1, 2)\n",
    "print(digits_data.shape)\n",
    "print(digits_data.dtype)\n",
    "print(digits_data.min(), digits_data.max())\n"
   ]
  },
  {
   "cell_type": "code",
   "execution_count": 1,
   "metadata": {},
   "outputs": [],
   "source": [
    "from datasets import CIFAR_SR\n",
    "import torch\n",
    "\n",
    "data = CIFAR_SR(scale_factor=2, split=\"train\", download=True, device=\"cuda\")"
   ]
  },
  {
   "cell_type": "code",
   "execution_count": 7,
   "metadata": {},
   "outputs": [
    {
     "name": "stdout",
     "output_type": "stream",
     "text": [
      "tensor(0., device='cuda:0')\n"
     ]
    }
   ],
   "source": [
    "print(torch.min(data.get_samples(64)[1]))"
   ]
  },
  {
   "cell_type": "code",
   "execution_count": null,
   "metadata": {},
   "outputs": [],
   "source": []
  }
 ],
 "metadata": {
  "kernelspec": {
   "display_name": "ML",
   "language": "python",
   "name": "python3"
  },
  "language_info": {
   "codemirror_mode": {
    "name": "ipython",
    "version": 3
   },
   "file_extension": ".py",
   "mimetype": "text/x-python",
   "name": "python",
   "nbconvert_exporter": "python",
   "pygments_lexer": "ipython3",
   "version": "3.13.2"
  }
 },
 "nbformat": 4,
 "nbformat_minor": 2
}
