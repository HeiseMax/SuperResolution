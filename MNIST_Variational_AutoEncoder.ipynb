{
  "cells": [
    {
      "cell_type": "code",
      "execution_count": null,
      "metadata": {
        "id": "ElfqDFclQiEM"
      },
      "outputs": [],
      "source": [
        "import torch\n",
        "import torch.nn as nn\n",
        "from torch.optim import Adam\n",
        "import torch.nn.functional as nnf\n",
        "from torch.optim.lr_scheduler import ReduceLROnPlateau\n",
        "\n",
        "import numpy as np\n",
        "\n",
        "from tqdm import tqdm\n",
        "\n",
        "import matplotlib.pyplot as plt\n",
        "\n",
        "from util import load_MNIST\n",
        "\n",
        "cuda = True\n",
        "DEVICE = torch.device(\"cuda\" if cuda and torch.cuda.is_available() else \"cpu\")\n",
        "print(DEVICE)"
      ]
    },
    {
      "cell_type": "code",
      "execution_count": 2,
      "metadata": {
        "id": "T7FreH-HQiEW"
      },
      "outputs": [],
      "source": [
        "class Encoder(nn.Module):\n",
        "\n",
        "    def __init__(self, input_dim, hidden_dim, latent_dim):\n",
        "        super(Encoder, self).__init__()\n",
        "\n",
        "        self.FC_input = nn.Linear(input_dim, hidden_dim)\n",
        "        self.FC_input2 = nn.Linear(hidden_dim, hidden_dim)\n",
        "        self.FC_input3 = nn.Linear(hidden_dim, hidden_dim)\n",
        "        self.FC_mean  = nn.Linear(hidden_dim, latent_dim)\n",
        "        self.FC_var   = nn.Linear (hidden_dim, latent_dim)\n",
        "\n",
        "        self.LeakyReLU = nn.LeakyReLU(0.2)\n",
        "\n",
        "        self.training = True\n",
        "\n",
        "    def forward(self, x):\n",
        "        h_       = self.LeakyReLU(self.FC_input(x))\n",
        "        h_       = self.LeakyReLU(self.FC_input2(h_))\n",
        "        h_       = self.LeakyReLU(self.FC_input3(h_))\n",
        "        mean     = self.FC_mean(h_)\n",
        "        log_var  = self.FC_var(h_)\n",
        "\n",
        "        return mean, log_var"
      ]
    },
    {
      "cell_type": "code",
      "execution_count": 3,
      "metadata": {
        "id": "OdpvrFsDQiEY"
      },
      "outputs": [],
      "source": [
        "class Decoder(nn.Module):\n",
        "    def __init__(self, latent_dim, hidden_dim, output_dim):\n",
        "        super(Decoder, self).__init__()\n",
        "        self.FC_hidden = nn.Linear(latent_dim, hidden_dim)\n",
        "        self.FC_hidden2 = nn.Linear(hidden_dim, hidden_dim)\n",
        "        self.FC_hidden3 = nn.Linear(hidden_dim, hidden_dim)\n",
        "        self.FC_output = nn.Linear(hidden_dim, output_dim)\n",
        "\n",
        "        self.LeakyReLU = nn.LeakyReLU(0.2)\n",
        "\n",
        "    def forward(self, x):\n",
        "        h     = self.LeakyReLU(self.FC_hidden(x))\n",
        "        h     = self.LeakyReLU(self.FC_hidden2(h))\n",
        "        h     = self.LeakyReLU(self.FC_hidden3(h))\n",
        "\n",
        "        x_hat = torch.sigmoid(self.FC_output(h))\n",
        "        return x_hat"
      ]
    },
    {
      "cell_type": "code",
      "execution_count": 4,
      "metadata": {
        "id": "y9MGR3DRQiEa"
      },
      "outputs": [],
      "source": [
        "class Model(nn.Module):\n",
        "    def __init__(self, Encoder, Decoder):\n",
        "        super(Model, self).__init__()\n",
        "        self.Encoder = Encoder\n",
        "        self.Decoder = Decoder\n",
        "        self.loss = []\n",
        "\n",
        "    def reparameterization(self, mean, var):\n",
        "        epsilon = torch.randn_like(var).to(DEVICE)\n",
        "        z = mean + var*epsilon\n",
        "        return z\n",
        "\n",
        "    def forward(self, x):\n",
        "        mean, log_var = self.Encoder(x)\n",
        "        z = self.reparameterization(mean, torch.exp(0.5 * log_var))\n",
        "        x_hat = self.Decoder(z)\n",
        "\n",
        "        return x_hat, mean, log_var"
      ]
    },
    {
      "cell_type": "code",
      "execution_count": 5,
      "metadata": {
        "id": "qvSqTIDcpt4C"
      },
      "outputs": [],
      "source": [
        "x_dim = 28\n",
        "channels = 1\n",
        "\n",
        "scale_factor = 2\n",
        "x_inp_dim  = int(x_dim / scale_factor)\n",
        "\n",
        "\n",
        "hidden_dim = 200\n",
        "latent_dim = 80\n",
        "\n",
        "lr = 1e-3\n",
        "epochs = 100\n",
        "batch_size = 4096\n",
        "\n",
        "train_dataset, test_dataset, train_loader, test_loader, classes = load_MNIST(batch_size, None)\n",
        "num_train_data = len(train_dataset)"
      ]
    },
    {
      "cell_type": "code",
      "execution_count": 6,
      "metadata": {
        "id": "9ElvZK7AQiEe"
      },
      "outputs": [],
      "source": [
        "encoder = Encoder(input_dim=x_inp_dim**2*channels, hidden_dim=hidden_dim, latent_dim=latent_dim)\n",
        "decoder = Decoder(latent_dim=latent_dim, hidden_dim = hidden_dim, output_dim = x_dim**2*channels)\n",
        "\n",
        "model = Model(Encoder=encoder, Decoder=decoder).to(DEVICE)"
      ]
    },
    {
      "cell_type": "code",
      "execution_count": 7,
      "metadata": {
        "id": "tSLWXOKDQiEh"
      },
      "outputs": [],
      "source": [
        "def loss_function(x, x_hat, mean, log_var):\n",
        "    reproduction_loss = nn.functional.binary_cross_entropy(x_hat, x, reduction='sum')\n",
        "    KLD = -0.5 * torch.sum(1+ log_var - mean.pow(2) - log_var.exp())\n",
        "\n",
        "    return reproduction_loss + KLD\n",
        "\n",
        "optimizer = Adam(model.parameters(), lr=lr)\n",
        "scheduler = ReduceLROnPlateau(optimizer, 'min', factor=0.5, patience=10, threshold=0.0001)"
      ]
    },
    {
      "cell_type": "code",
      "execution_count": 8,
      "metadata": {
        "colab": {
          "base_uri": "https://localhost:8080/"
        },
        "id": "QLAkgnYGQiEj",
        "outputId": "2c2292e5-5abf-4fce-c16e-ccacca4c55d0",
        "scrolled": false
      },
      "outputs": [
        {
          "name": "stdout",
          "output_type": "stream",
          "text": [
            "Start training VAE...\n"
          ]
        },
        {
          "name": "stdout",
          "output_type": "stream",
          "text": [
            "\tEpoch 0 complete! \tAverage Loss:  422.00173541666675\n",
            "\tEpoch 10 complete! \tAverage Loss:  186.65577395833333\n",
            "\tEpoch 20 complete! \tAverage Loss:  171.86108333333337\n",
            "\tEpoch 30 complete! \tAverage Loss:  149.51505104166665\n",
            "\tEpoch 40 complete! \tAverage Loss:  136.23073333333332\n",
            "\tEpoch 50 complete! \tAverage Loss:  127.59548020833334\n",
            "\tEpoch 60 complete! \tAverage Loss:  122.83467916666667\n",
            "\tEpoch 70 complete! \tAverage Loss:  119.51200260416665\n",
            "\tEpoch 80 complete! \tAverage Loss:  116.99741666666668\n",
            "\tEpoch 90 complete! \tAverage Loss:  114.81316666666667\n",
            "\tEpoch 100 complete! \tAverage Loss:  113.101134375\n",
            "Finish!!\n"
          ]
        }
      ],
      "source": [
        "print(\"Start training VAE...\")\n",
        "model.train()\n",
        "\n",
        "for epoch in range(epochs):\n",
        "    overall_loss = 0\n",
        "    for batch_idx, (x, _) in enumerate(train_loader):\n",
        "        x_inp = nnf.interpolate(x, size=(x_inp_dim, x_inp_dim), mode='bicubic', align_corners=False)\n",
        "        x_inp = x_inp.view(-1, x_inp_dim**2*channels)\n",
        "        x_inp = x_inp.to(DEVICE)\n",
        "\n",
        "        x = x.view(-1, x_dim**2*channels)\n",
        "        x = x.to(DEVICE)\n",
        "\n",
        "        optimizer.zero_grad()\n",
        "\n",
        "        x_hat, mean, log_var = model(x_inp)\n",
        "        loss = loss_function(x, x_hat, mean, log_var)\n",
        "\n",
        "        overall_loss += loss.item() / num_train_data\n",
        "\n",
        "        loss.backward()\n",
        "        optimizer.step()\n",
        "\n",
        "    if epoch % 10 == 0:\n",
        "        print(\"\\tEpoch\", epoch, \"complete!\", \"\\tAverage Loss: \", overall_loss)\n",
        "\n",
        "    model.loss.append(overall_loss)\n",
        "    scheduler.step(overall_loss)\n",
        "\n",
        "print(\"\\tEpoch\", epoch + 1, \"complete!\", \"\\tAverage Loss: \", overall_loss)\n",
        "print(\"Finish!!\")"
      ]
    },
    {
      "cell_type": "code",
      "execution_count": 9,
      "metadata": {},
      "outputs": [
        {
          "data": {
            "text/plain": [
              "[]"
            ]
          },
          "execution_count": 9,
          "metadata": {},
          "output_type": "execute_result"
        },
        {
          "data": {
            "image/png": "[encoded data removed]",
            "text/plain": [
              "<Figure size 640x480 with 1 Axes>"
            ]
          },
          "metadata": {},
          "output_type": "display_data"
        }
      ],
      "source": [
        "plt.plot(model.loss)\n",
        "plt.xlabel('Epochs')\n",
        "plt.ylabel('Loss')\n",
        "plt.plot()"
      ]
    },
    {
      "cell_type": "code",
      "execution_count": 10,
      "metadata": {
        "colab": {
          "base_uri": "https://localhost:8080/"
        },
        "id": "pd7niVhpQiEn",
        "outputId": "265b1cfa-66cd-4c99-ee1c-806c92ff4fc0"
      },
      "outputs": [
        {
          "name": "stderr",
          "output_type": "stream",
          "text": [
            "  0%|          | 0/3 [00:00<?, ?it/s]\n"
          ]
        }
      ],
      "source": [
        "model.eval()\n",
        "\n",
        "with torch.no_grad():\n",
        "    for batch_idx, (x, _) in enumerate(tqdm(test_loader)):\n",
        "        x_inp = nnf.interpolate(x, size=(x_inp_dim, x_inp_dim), mode='bicubic', align_corners=False)\n",
        "        x_inp = x_inp.view(batch_size, x_inp_dim**2*channels)\n",
        "        x_inp = x_inp.to(DEVICE)\n",
        "\n",
        "        x = x.view(batch_size, x_dim**2*channels)\n",
        "        x = x.to(DEVICE)\n",
        "\n",
        "        x_hat, _, _ = model(x_inp)\n",
        "\n",
        "        break"
      ]
    },
    {
      "cell_type": "code",
      "execution_count": 11,
      "metadata": {
        "id": "H6k1NNzdQiEo"
      },
      "outputs": [],
      "source": [
        "def show_image(x, x_inp, x_hat, n):\n",
        "    x = x.view(batch_size, channels, x_dim, x_dim)\n",
        "    x_inp = x_inp.view(batch_size, channels, x_inp_dim, x_inp_dim)\n",
        "    x_hat = x_hat.view(batch_size, channels, x_dim, x_dim)\n",
        "\n",
        "\n",
        "    fig, axs = plt.subplots(3, n, figsize=(20, 6))\n",
        "    for i in range(n):\n",
        "        axs[0, i].imshow(x[i].permute(1, 2, 0).cpu().numpy(),)\n",
        "        axs[0, i].axis('off')\n",
        "\n",
        "        axs[1, i].imshow(x_inp[i].permute(1, 2, 0).cpu().numpy())\n",
        "        axs[1, i].axis('off')\n",
        "\n",
        "        axs[2, i].imshow(x_hat[i].permute(1, 2, 0).cpu().numpy())\n",
        "        axs[2, i].axis('off')"
      ]
    },
    {
      "cell_type": "code",
      "execution_count": 12,
      "metadata": {},
      "outputs": [
        {
          "data": {
            "image/png": "[encoded data removed]",
            "text/plain": [
              "<Figure size 2000x600 with 24 Axes>"
            ]
          },
          "metadata": {},
          "output_type": "display_data"
        }
      ],
      "source": [
        "show_image(x, x_inp, x_hat, 8)"
      ]
    },
    {
      "cell_type": "markdown",
      "metadata": {},
      "source": [
        "### Validation"
      ]
    },
    {
      "cell_type": "markdown",
      "metadata": {},
      "source": [
        "#### Distortion (difference of generated image to ground truth)"
      ]
    },
    {
      "cell_type": "markdown",
      "metadata": {},
      "source": [
        "##### Signal-to-Noise Ratio (PSNR)\n",
        "higher better"
      ]
    },
    {
      "cell_type": "code",
      "execution_count": null,
      "metadata": {},
      "outputs": [
        {
          "name": "stdout",
          "output_type": "stream",
          "text": [
            "tensor(11.9860, device='cuda:0')\n"
          ]
        }
      ],
      "source": [
        "from piq import psnr\n",
        "\n",
        "psnr_val = psnr(x, x_hat, data_range=1.0)\n",
        "print(psnr_val)"
      ]
    },
    {
      "cell_type": "markdown",
      "metadata": {},
      "source": [
        "##### Structural similarity index measure (SSIM)\n",
        "higher better"
      ]
    },
    {
      "cell_type": "code",
      "execution_count": null,
      "metadata": {},
      "outputs": [
        {
          "name": "stdout",
          "output_type": "stream",
          "text": [
            "tensor(0.3786, device='cuda:0')\n"
          ]
        }
      ],
      "source": [
        "from piq import ssim\n",
        "\n",
        "ssim_val = torch.mean(ssim(x, x_hat, data_range=1.0, reduction='none'))\n",
        "print(ssim_val)"
      ]
    },
    {
      "cell_type": "markdown",
      "metadata": {},
      "source": [
        "##### Learned Perceptual Image Patch Similarity (LPIPS)\n",
        "lower better\n",
        "\n",
        "2 versions"
      ]
    },
    {
      "cell_type": "code",
      "execution_count": null,
      "metadata": {},
      "outputs": [
        {
          "name": "stdout",
          "output_type": "stream",
          "text": [
            "tensor(0.1581, device='cuda:0')\n"
          ]
        }
      ],
      "source": [
        "from torchmetrics.image.lpip import LearnedPerceptualImagePatchSimilarity\n",
        "\n",
        "lpips = LearnedPerceptualImagePatchSimilarity().to(DEVICE)\n",
        "x_lpips = x * 2 - 1\n",
        "x_lpips = x_lpips.repeat(1, 3, 1, 1)\n",
        "x_lpips = nnf.pad(x_lpips, (2, 2, 2, 2), mode='reflect')\n",
        "\n",
        "x_hat_lpips = x_hat * 2 - 1\n",
        "x_hat_lpips = x_hat_lpips.repeat(1, 3, 1, 1)\n",
        "x_hat_lpips = nnf.pad(x_hat_lpips, (2, 2, 2, 2), mode='reflect')\n",
        "\n",
        "lpips_value = lpips(x_lpips, x_hat_lpips)\n",
        "print(lpips_value)"
      ]
    },
    {
      "cell_type": "code",
      "execution_count": null,
      "metadata": {},
      "outputs": [
        {
          "name": "stdout",
          "output_type": "stream",
          "text": [
            "tensor(0.2698, device='cuda:0')\n"
          ]
        }
      ],
      "source": [
        "from piq import LPIPS\n",
        "\n",
        "x_lpips = (x * 2) - 1\n",
        "x_lpips = x_lpips.repeat(1, 3, 1, 1)\n",
        "x_lpips = nnf.pad(x_lpips, (2, 2, 2, 2), mode='reflect')\n",
        "# x_lpips = torch.rand(10, 3, 32, 32)\n",
        "x_hat_lpips = (x_hat * 2) - 1\n",
        "x_hat_lpips = x_hat_lpips.repeat(1, 3, 1, 1)\n",
        "x_hat_lpips = nnf.pad(x_hat_lpips, (2, 2, 2, 2), mode='reflect')\n",
        "# x_hat_lpips = torch.rand(10, 3, 32, 32)\n",
        "lpips = LPIPS().to(DEVICE)\n",
        "lpips_val = lpips(x_lpips, x_hat_lpips)\n",
        "print(lpips_val)"
      ]
    },
    {
      "cell_type": "markdown",
      "metadata": {},
      "source": [
        "#### Visual Quality\n",
        "\n",
        "##### Blind/Referenceless Image Spatial Quality Evaluator (BRISQUE)\n",
        "lower better"
      ]
    },
    {
      "cell_type": "code",
      "execution_count": null,
      "metadata": {},
      "outputs": [
        {
          "name": "stdout",
          "output_type": "stream",
          "text": [
            "ground_truth:  tensor(72.9080, device='cuda:0')\n",
            "reconstructed:  tensor(53.4652, device='cuda:0')\n"
          ]
        }
      ],
      "source": [
        "from piq import brisque\n",
        "\n",
        "brisque_val_gt = brisque(x)\n",
        "print(\"ground_truth: \", brisque_val_gt)\n",
        "\n",
        "brisque_val_hat = brisque(x_hat)\n",
        "print(\"reconstructed: \", brisque_val_hat)"
      ]
    },
    {
      "cell_type": "markdown",
      "metadata": {},
      "source": [
        "#### Consistency\n",
        "\n",
        "##### Low Resolution Peak signal-to-noise ratio (LR-PSNR)\n",
        "higher better"
      ]
    },
    {
      "cell_type": "code",
      "execution_count": null,
      "metadata": {},
      "outputs": [
        {
          "data": {
            "text/plain": [
              "tensor(13.9180, device='cuda:0')"
            ]
          },
          "metadata": {},
          "output_type": "display_data"
        }
      ],
      "source": [
        "from piq import psnr\n",
        "\n",
        "x_hat_lr = nnf.interpolate(x_hat, size=(x_inp.size(2), x_inp.size(3)), mode='bicubic', align_corners=False)\n",
        "x_hat_lr = (x_hat_lr - x_hat_lr.min()) / (x_hat_lr.max() - x_hat_lr.min())\n",
        "psnr(x_inp, x_hat_lr, data_range=1.0)"
      ]
    },
    {
      "cell_type": "markdown",
      "metadata": {},
      "source": [
        "#### Diversity (Average Pairwise distance between different samples coming from the same LR input (ADP))"
      ]
    },
    {
      "cell_type": "markdown",
      "metadata": {},
      "source": [
        "##### Mean Squared Error (MSE)\n",
        "higher better"
      ]
    },
    {
      "cell_type": "code",
      "execution_count": null,
      "metadata": {},
      "outputs": [
        {
          "data": {
            "text/plain": [
              "tensor(0.0464, device='cuda:0')"
            ]
          },
          "metadata": {},
          "output_type": "display_data"
        }
      ],
      "source": [
        "# Needs to be changed to calculate average over many reference images and the corresponding generated images\n",
        "\n",
        "def MSE_diversity(reference, x_hat):\n",
        "    # reference is 1 image, x_hat is N images\n",
        "    # reshape reference to (N, C, H, W)\n",
        "    x = reference.repeat(x_hat.size(0), 1, 1, 1)\n",
        "    mse = nn.functional.mse_loss(x, x_hat, reduction='none')\n",
        "    mse = mse.view(mse.size(0), -1).mean(1)\n",
        "    return torch.mean(mse)\n",
        "\n",
        "MSE_diversity(x[0], x_hat)"
      ]
    },
    {
      "cell_type": "markdown",
      "metadata": {},
      "source": [
        "##### Learned Perceptual Image Patch Similarity (LPIPS)\n",
        "higher better"
      ]
    },
    {
      "cell_type": "code",
      "execution_count": null,
      "metadata": {},
      "outputs": [
        {
          "data": {
            "text/plain": [
              "tensor(0.2585, device='cuda:0')"
            ]
          },
          "metadata": {},
          "output_type": "display_data"
        }
      ],
      "source": [
        "# Needs to be changed to calculate average over many reference images and the corresponding generated images\n",
        "from piq import LPIPS\n",
        "\n",
        "def LPIPS_diversity(reference, x_hat):\n",
        "    # reference is 1 image, x_hat is N images\n",
        "    # reshape reference to (N, C, H, W)\n",
        "    reference = reference.repeat(x_hat.size(0), 3, 1, 1)\n",
        "    reference = (reference * 2) - 1\n",
        "    reference = nnf.pad(reference, (2, 2, 2, 2), mode='reflect')\n",
        "                      \n",
        "    x_hat_lpips = (x_hat * 2) - 1\n",
        "    x_hat_lpips = x_hat_lpips.repeat(1, 3, 1, 1)\n",
        "    x_hat_lpips = nnf.pad(x_hat_lpips, (2, 2, 2, 2), mode='reflect')\n",
        "    lpips = LPIPS().to(DEVICE)\n",
        "    return lpips(reference, x_hat_lpips)\n",
        "\n",
        "LPIPS_diversity(x[0], x_hat)"
      ]
    },
    {
      "cell_type": "code",
      "execution_count": null,
      "metadata": {},
      "outputs": [],
      "source": [
        "# from piq import LPIPS\n",
        "\n",
        "# x_lpips = (x * 2) - 1\n",
        "# x_lpips = x_lpips.repeat(1, 3, 1, 1)\n",
        "# x_lpips = nnf.pad(x_lpips, (2, 2, 2, 2), mode='reflect')\n",
        "# # x_lpips = torch.rand(10, 3, 32, 32)\n",
        "# x_hat_lpips = (x_hat * 2) - 1\n",
        "# x_hat_lpips = x_hat_lpips.repeat(1, 3, 1, 1)\n",
        "# x_hat_lpips = nnf.pad(x_hat_lpips, (2, 2, 2, 2), mode='reflect')\n",
        "# # x_hat_lpips = torch.rand(10, 3, 32, 32)\n",
        "# lpips = LPIPS().to(DEVICE)\n",
        "# lpips_val = lpips(x_lpips, x_hat_lpips)\n",
        "# print(lpips_val)"
      ]
    },
    {
      "cell_type": "code",
      "execution_count": null,
      "metadata": {},
      "outputs": [
        {
          "ename": "ModuleNotFoundError",
          "evalue": "No module named 'torchmetrics'",
          "output_type": "error",
          "traceback": [
            "\u001b[31m---------------------------------------------------------------------------\u001b[39m\n",
            "\u001b[31mModuleNotFoundError\u001b[39m                       Traceback (most recent call last)\n",
            "\u001b[36mCell\u001b[39m\u001b[36m \u001b[39m\u001b[32mIn[16]\u001b[39m\u001b[32m, line 1\u001b[39m\n",
            "\u001b[32m----> \u001b[39m\u001b[32m1\u001b[39m \u001b[38;5;28;01mfrom\u001b[39;00m\u001b[38;5;250m \u001b[39m\u001b[34;01mtorchmetrics\u001b[39;00m\u001b[34;01m.\u001b[39;00m\u001b[34;01mimage\u001b[39;00m\u001b[38;5;250m \u001b[39m\u001b[38;5;28;01mimport\u001b[39;00m StructuralSimilarityIndexMeasure\n",
            "\u001b[32m      5\u001b[39m \u001b[38;5;28;01mdef\u001b[39;00m\u001b[38;5;250m \u001b[39m\u001b[34mSSIM\u001b[39m(x, x_hat):\n",
            "\u001b[32m      6\u001b[39m     ssim = StructuralSimilarityIndexMeasure(data_range=\u001b[32m1.0\u001b[39m)\n",
            "\n",
            "\u001b[31mModuleNotFoundError\u001b[39m: No module named 'torchmetrics'"
          ]
        }
      ],
      "source": [
        "# from torchmetrics.image import StructuralSimilarityIndexMeasure\n",
        "\n",
        "# def SSIM(x, x_hat):\n",
        "#     ssim = StructuralSimilarityIndexMeasure(data_range=1.0)\n",
        "#     ssim_value = ssim(x, x_hat)\n",
        "#     return ssim_value"
      ]
    }
  ],
  "metadata": {
    "accelerator": "GPU",
    "colab": {
      "gpuType": "T4",
      "provenance": []
    },
    "kernelspec": {
      "display_name": "ML",
      "language": "python",
      "name": "python3"
    },
    "language_info": {
      "codemirror_mode": {
        "name": "ipython",
        "version": 3
      },
      "file_extension": ".py",
      "mimetype": "text/x-python",
      "name": "python",
      "nbconvert_exporter": "python",
      "pygments_lexer": "ipython3",
      "version": "3.13.2"
    }
  },
  "nbformat": 4,
  "nbformat_minor": 0
}
