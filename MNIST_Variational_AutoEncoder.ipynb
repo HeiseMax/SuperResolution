{
  "cells": [
    {
      "cell_type": "code",
      "execution_count": null,
      "metadata": {
        "id": "ElfqDFclQiEM"
      },
      "outputs": [],
      "source": [
        "import torch\n",
        "import torch.nn as nn\n",
        "\n",
        "import numpy as np\n",
        "\n",
        "from tqdm import tqdm"
      ]
    },
    {
      "cell_type": "code",
      "execution_count": 3,
      "metadata": {
        "id": "dL37KJQRQiEO"
      },
      "outputs": [],
      "source": [
        "# Model Hyperparameters\n",
        "\n",
        "dataset_path = '~/datasets'\n",
        "\n",
        "cuda = True\n",
        "DEVICE = torch.device(\"cuda\" if cuda else \"cpu\")"
      ]
    },
    {
      "cell_type": "markdown",
      "metadata": {
        "id": "n_O6r-dBQiER"
      },
      "source": [
        "###    Step 1. Load (or download) Dataset"
      ]
    },
    {
      "cell_type": "code",
      "execution_count": 4,
      "metadata": {
        "id": "zSQ0azsmQiES"
      },
      "outputs": [
        {
          "name": "stderr",
          "output_type": "stream",
          "text": [
            "100.0%\n",
            "100.0%\n",
            "100.0%\n",
            "100.0%\n"
          ]
        }
      ],
      "source": [
        "from torchvision.datasets import MNIST\n",
        "import torchvision.transforms as transforms\n",
        "from torch.utils.data import DataLoader\n",
        "\n",
        "\n",
        "mnist_transform = transforms.Compose([\n",
        "        transforms.ToTensor(),\n",
        "])\n",
        "\n",
        "kwargs = {'num_workers': 1, 'pin_memory': True}\n",
        "\n",
        "train_dataset = MNIST(dataset_path, transform=mnist_transform, train=True, download=True)\n",
        "test_dataset  = MNIST(dataset_path, transform=mnist_transform, train=False, download=True)"
      ]
    },
    {
      "cell_type": "markdown",
      "metadata": {
        "id": "NdYKmAd6QiEU"
      },
      "source": [
        "### Step 2. Define our model: Variational AutoEncoder (VAE)"
      ]
    },
    {
      "cell_type": "code",
      "execution_count": 5,
      "metadata": {
        "id": "T7FreH-HQiEW"
      },
      "outputs": [],
      "source": [
        "\"\"\"\n",
        "    A simple implementation of Gaussian MLP Encoder and Decoder\n",
        "\"\"\"\n",
        "\n",
        "class Encoder(nn.Module):\n",
        "\n",
        "    def __init__(self, input_dim, hidden_dim, latent_dim):\n",
        "        super(Encoder, self).__init__()\n",
        "\n",
        "        self.FC_input = nn.Linear(input_dim, hidden_dim)\n",
        "        self.FC_input2 = nn.Linear(hidden_dim, hidden_dim)\n",
        "        self.FC_mean  = nn.Linear(hidden_dim, latent_dim)\n",
        "        self.FC_var   = nn.Linear (hidden_dim, latent_dim)\n",
        "\n",
        "        self.LeakyReLU = nn.LeakyReLU(0.2)\n",
        "\n",
        "        self.training = True\n",
        "\n",
        "    def forward(self, x):\n",
        "        h_       = self.LeakyReLU(self.FC_input(x))\n",
        "        h_       = self.LeakyReLU(self.FC_input2(h_))\n",
        "        mean     = self.FC_mean(h_)\n",
        "        log_var  = self.FC_var(h_)                     # encoder produces mean and log of variance\n",
        "                                                       #             (i.e., parateters of simple tractable normal distribution \"q\"\n",
        "\n",
        "        return mean, log_var"
      ]
    },
    {
      "cell_type": "code",
      "execution_count": 6,
      "metadata": {
        "id": "OdpvrFsDQiEY"
      },
      "outputs": [],
      "source": [
        "class Decoder(nn.Module):\n",
        "    def __init__(self, latent_dim, hidden_dim, output_dim):\n",
        "        super(Decoder, self).__init__()\n",
        "        self.FC_hidden = nn.Linear(latent_dim, hidden_dim)\n",
        "        self.FC_hidden2 = nn.Linear(hidden_dim, hidden_dim)\n",
        "        self.FC_output = nn.Linear(hidden_dim, output_dim)\n",
        "\n",
        "        self.LeakyReLU = nn.LeakyReLU(0.2)\n",
        "\n",
        "    def forward(self, x):\n",
        "        h     = self.LeakyReLU(self.FC_hidden(x))\n",
        "        h     = self.LeakyReLU(self.FC_hidden2(h))\n",
        "\n",
        "        x_hat = torch.sigmoid(self.FC_output(h))\n",
        "        return x_hat\n"
      ]
    },
    {
      "cell_type": "code",
      "execution_count": 7,
      "metadata": {
        "id": "y9MGR3DRQiEa"
      },
      "outputs": [],
      "source": [
        "class Model(nn.Module):\n",
        "    def __init__(self, Encoder, Decoder):\n",
        "        super(Model, self).__init__()\n",
        "        self.Encoder = Encoder\n",
        "        self.Decoder = Decoder\n",
        "\n",
        "    def reparameterization(self, mean, var):\n",
        "        epsilon = torch.randn_like(var).to(DEVICE)        # sampling epsilon\n",
        "        z = mean + var*epsilon                          # reparameterization trick\n",
        "        return z\n",
        "\n",
        "\n",
        "    def forward(self, x):\n",
        "        mean, log_var = self.Encoder(x)\n",
        "        z = self.reparameterization(mean, torch.exp(0.5 * log_var)) # takes exponential function (log var -> var)\n",
        "        x_hat            = self.Decoder(z)\n",
        "\n",
        "        return x_hat, mean, log_var"
      ]
    },
    {
      "cell_type": "code",
      "execution_count": 8,
      "metadata": {
        "id": "qvSqTIDcpt4C"
      },
      "outputs": [],
      "source": [
        "scale_factor = 4\n",
        "\n",
        "x_dim = 28\n",
        "x_inp_dim  = int(x_dim / scale_factor)\n",
        "\n",
        "hidden_dim = 200\n",
        "latent_dim = 100\n",
        "\n",
        "lr = 1e-3\n",
        "batch_size = 100\n",
        "epochs = 30\n",
        "\n",
        "\n",
        "train_loader = DataLoader(dataset=train_dataset, batch_size=batch_size, shuffle=True, **kwargs)\n",
        "test_loader  = DataLoader(dataset=test_dataset,  batch_size=batch_size, shuffle=False, **kwargs)"
      ]
    },
    {
      "cell_type": "code",
      "execution_count": 9,
      "metadata": {
        "id": "9ElvZK7AQiEe"
      },
      "outputs": [],
      "source": [
        "encoder = Encoder(input_dim=x_inp_dim**2, hidden_dim=hidden_dim, latent_dim=latent_dim)\n",
        "decoder = Decoder(latent_dim=latent_dim, hidden_dim = hidden_dim, output_dim = x_dim**2)\n",
        "\n",
        "model = Model(Encoder=encoder, Decoder=decoder).to(DEVICE)"
      ]
    },
    {
      "cell_type": "markdown",
      "metadata": {
        "id": "py0FI2j4QiEf"
      },
      "source": [
        "### Step 3. Define Loss function (reprod. loss) and optimizer"
      ]
    },
    {
      "cell_type": "code",
      "execution_count": 10,
      "metadata": {
        "id": "tSLWXOKDQiEh"
      },
      "outputs": [],
      "source": [
        "from torch.optim import Adam\n",
        "\n",
        "BCE_loss = nn.BCELoss()\n",
        "\n",
        "def loss_function(x, x_hat, mean, log_var):\n",
        "    reproduction_loss = nn.functional.binary_cross_entropy(x_hat, x, reduction='sum')\n",
        "    KLD      = - 0.5 * torch.sum(1+ log_var - mean.pow(2) - log_var.exp())\n",
        "\n",
        "    return reproduction_loss + KLD\n",
        "\n",
        "\n",
        "optimizer = Adam(model.parameters(), lr=lr)"
      ]
    },
    {
      "cell_type": "markdown",
      "metadata": {
        "id": "HKMFK7fBQiEi"
      },
      "source": [
        "### Step 4. Train Variational AutoEncoder (VAE)"
      ]
    },
    {
      "cell_type": "code",
      "execution_count": 11,
      "metadata": {
        "id": "bG-bFgUIXV6E"
      },
      "outputs": [],
      "source": [
        "import torch.nn.functional as nnf"
      ]
    },
    {
      "cell_type": "code",
      "execution_count": 12,
      "metadata": {
        "colab": {
          "base_uri": "https://localhost:8080/"
        },
        "id": "QLAkgnYGQiEj",
        "outputId": "2c2292e5-5abf-4fce-c16e-ccacca4c55d0",
        "scrolled": false
      },
      "outputs": [
        {
          "name": "stdout",
          "output_type": "stream",
          "text": [
            "Start training VAE...\n",
            "\tEpoch 1 complete! \tAverage Loss:  193.96989486057493\n",
            "\tEpoch 2 complete! \tAverage Loss:  153.94563372221933\n",
            "\tEpoch 3 complete! \tAverage Loss:  143.66091076272954\n",
            "\tEpoch 4 complete! \tAverage Loss:  139.5687813184735\n",
            "\tEpoch 5 complete! \tAverage Loss:  136.6814940265025\n",
            "\tEpoch 6 complete! \tAverage Loss:  134.53075405623957\n",
            "\tEpoch 7 complete! \tAverage Loss:  133.02558407893363\n",
            "\tEpoch 8 complete! \tAverage Loss:  131.660688859688\n",
            "\tEpoch 9 complete! \tAverage Loss:  130.65562289688543\n",
            "\tEpoch 10 complete! \tAverage Loss:  129.76702844584725\n",
            "\tEpoch 11 complete! \tAverage Loss:  129.01995966584934\n",
            "\tEpoch 12 complete! \tAverage Loss:  128.35784843228296\n",
            "\tEpoch 13 complete! \tAverage Loss:  127.68317022511478\n",
            "\tEpoch 14 complete! \tAverage Loss:  127.16568212646077\n",
            "\tEpoch 15 complete! \tAverage Loss:  126.65046449486123\n",
            "\tEpoch 16 complete! \tAverage Loss:  126.21645403471932\n",
            "\tEpoch 17 complete! \tAverage Loss:  125.87198563360809\n",
            "\tEpoch 18 complete! \tAverage Loss:  125.50697616144095\n",
            "\tEpoch 19 complete! \tAverage Loss:  125.23586278237165\n",
            "\tEpoch 20 complete! \tAverage Loss:  124.90730439404216\n",
            "\tEpoch 21 complete! \tAverage Loss:  124.68129843684787\n",
            "\tEpoch 22 complete! \tAverage Loss:  124.46711098901815\n",
            "\tEpoch 23 complete! \tAverage Loss:  124.27776491091925\n",
            "\tEpoch 24 complete! \tAverage Loss:  124.02729469363001\n",
            "\tEpoch 25 complete! \tAverage Loss:  123.7969705042258\n",
            "\tEpoch 26 complete! \tAverage Loss:  123.63815447621035\n",
            "\tEpoch 27 complete! \tAverage Loss:  123.48104082976836\n",
            "\tEpoch 28 complete! \tAverage Loss:  123.28789970589003\n",
            "\tEpoch 29 complete! \tAverage Loss:  123.12854073194909\n",
            "\tEpoch 30 complete! \tAverage Loss:  122.99123262077421\n",
            "Finish!!\n"
          ]
        }
      ],
      "source": [
        "print(\"Start training VAE...\")\n",
        "model.train()\n",
        "\n",
        "for epoch in range(epochs):\n",
        "    overall_loss = 0\n",
        "    for batch_idx, (x, _) in enumerate(train_loader):\n",
        "        x_inp = nnf.interpolate(x, size=(x_inp_dim, x_inp_dim), mode='bicubic', align_corners=False)\n",
        "        x_inp = x_inp.view(batch_size, x_inp_dim**2)\n",
        "        x_inp = x_inp.to(DEVICE)\n",
        "\n",
        "        x = x.view(batch_size, x_dim**2)\n",
        "        x = x.to(DEVICE)\n",
        "\n",
        "        optimizer.zero_grad()\n",
        "\n",
        "        x_hat, mean, log_var = model(x_inp)\n",
        "        loss = loss_function(x, x_hat, mean, log_var)\n",
        "\n",
        "        overall_loss += loss.item()\n",
        "\n",
        "        loss.backward()\n",
        "        optimizer.step()\n",
        "\n",
        "    print(\"\\tEpoch\", epoch + 1, \"complete!\", \"\\tAverage Loss: \", overall_loss / (batch_idx*batch_size))\n",
        "\n",
        "print(\"Finish!!\")"
      ]
    },
    {
      "cell_type": "markdown",
      "metadata": {
        "id": "fj5nn4zjQiEl"
      },
      "source": [
        "### Step 5. Generate images from test dataset"
      ]
    },
    {
      "cell_type": "code",
      "execution_count": 15,
      "metadata": {
        "id": "3viW71u8QiEl"
      },
      "outputs": [],
      "source": [
        "import matplotlib.pyplot as plt"
      ]
    },
    {
      "cell_type": "code",
      "execution_count": 16,
      "metadata": {
        "colab": {
          "base_uri": "https://localhost:8080/"
        },
        "id": "pd7niVhpQiEn",
        "outputId": "265b1cfa-66cd-4c99-ee1c-806c92ff4fc0"
      },
      "outputs": [
        {
          "name": "stderr",
          "output_type": "stream",
          "text": [
            "  0%|          | 0/100 [00:00<?, ?it/s]\n"
          ]
        }
      ],
      "source": [
        "model.eval()\n",
        "\n",
        "with torch.no_grad():\n",
        "    for batch_idx, (x, _) in enumerate(tqdm(test_loader)):\n",
        "        x_inp = nnf.interpolate(x, size=(x_inp_dim, x_inp_dim), mode='bicubic', align_corners=False)\n",
        "        x_inp = x_inp.view(batch_size, x_inp_dim**2)\n",
        "        x_inp = x_inp.to(DEVICE)\n",
        "\n",
        "        x = x.view(batch_size, x_dim**2)\n",
        "        x = x.to(DEVICE)\n",
        "\n",
        "        x_hat, _, _ = model(x_inp)\n",
        "\n",
        "\n",
        "        break"
      ]
    },
    {
      "cell_type": "code",
      "execution_count": 21,
      "metadata": {
        "id": "H6k1NNzdQiEo"
      },
      "outputs": [],
      "source": [
        "def show_image(x, x_inp, x_hat, n):\n",
        "    x = x.view(batch_size, x_dim, x_dim)\n",
        "    x_inp = x_inp.view(batch_size, x_inp_dim, x_inp_dim)\n",
        "    x_hat = x_hat.view(batch_size, x_dim, x_dim)\n",
        "\n",
        "\n",
        "    fig, axs = plt.subplots(3, n, figsize=(20, 6))\n",
        "    for i in range(n):\n",
        "        axs[0, i].imshow(x[i].cpu().numpy(), cmap='gray')\n",
        "        axs[0, i].axis('off')\n",
        "\n",
        "        axs[1, i].imshow(x_inp[i].cpu().numpy(), cmap='gray')\n",
        "        axs[1, i].axis('off')\n",
        "\n",
        "        axs[2, i].imshow(x_hat[i].cpu().numpy(), cmap='gray')\n",
        "        axs[2, i].axis('off')"
      ]
    },
    {
      "cell_type": "code",
      "execution_count": 24,
      "metadata": {},
      "outputs": [
        {
          "data": {
            "image/png": "[encoded data removed]",
            "text/plain": [
              "<Figure size 2000x600 with 24 Axes>"
            ]
          },
          "metadata": {},
          "output_type": "display_data"
        }
      ],
      "source": [
        "show_image(x, x_inp, x_hat, 8)"
      ]
    }
  ],
  "metadata": {
    "accelerator": "GPU",
    "colab": {
      "gpuType": "T4",
      "provenance": []
    },
    "kernelspec": {
      "display_name": "ML",
      "language": "python",
      "name": "python3"
    },
    "language_info": {
      "codemirror_mode": {
        "name": "ipython",
        "version": 3
      },
      "file_extension": ".py",
      "mimetype": "text/x-python",
      "name": "python",
      "nbconvert_exporter": "python",
      "pygments_lexer": "ipython3",
      "version": "3.13.2"
    }
  },
  "nbformat": 4,
  "nbformat_minor": 0
}
