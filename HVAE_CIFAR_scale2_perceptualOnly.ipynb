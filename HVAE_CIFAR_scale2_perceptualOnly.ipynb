{
  "cells": [
    {
      "cell_type": "code",
      "execution_count": 1,
      "metadata": {
        "id": "4y-fQprPNgAM"
      },
      "outputs": [],
      "source": [
        "import torch\n",
        "import numpy as np\n",
        "import os\n",
        "import torch.nn as nn\n",
        "import torch.nn.functional as F\n",
        "import torch.optim as optim\n",
        "from torch.utils.data import DataLoader\n",
        "import time\n",
        "import random\n",
        "import matplotlib.pyplot as plt"
      ]
    },
    {
      "cell_type": "code",
      "execution_count": 2,
      "metadata": {
        "id": "iMwA_GSkN3zW"
      },
      "outputs": [],
      "source": [
        "# Utility Functions\n",
        "def gaussian_kl(mu1, logsigma1, mu2, logsigma2):\n",
        "    \"\"\"Computes the KL divergence between two diagonal Gaussians.\"\"\"\n",
        "    return -0.5 + logsigma2 - logsigma1 + 0.5 * (logsigma1.exp() ** 2 + (mu1 - mu2) ** 2) / (logsigma2.exp() ** 2)\n",
        "\n",
        "\n",
        "def sample_latent(mu, logvar, prev_z=None):\n",
        "    \"\"\"Samples a latent variable conditioned on the previous latent.\"\"\"\n",
        "    eps = torch.empty_like(mu).normal_(0., 1.)\n",
        "    z = torch.exp(logvar) * eps + mu\n",
        "    if prev_z is not None:\n",
        "        z = z + prev_z\n",
        "    return z\n",
        "\n",
        "\n",
        "def get_conv(in_dim, out_dim, kernel_size=3, stride=1, padding=1):\n",
        "    \"\"\"Creates a 2D convolutional layer.\"\"\"\n",
        "    c = nn.Conv2d(in_dim, out_dim, kernel_size, stride, padding)\n",
        "    nn.init.kaiming_normal_(c.weight)\n",
        "    return c\n",
        "\n",
        "\n",
        "def get_3x3(in_dim, out_dim):\n",
        "    \"\"\"Creates a 3x3 convolutional layer.\"\"\"\n",
        "    return get_conv(in_dim, out_dim, 3, 1, 1)\n",
        "\n",
        "\n",
        "# Encoder Module\n",
        "class HierarchicalEncoder(nn.Module):\n",
        "    def __init__(self, in_channels=3, base_width=32, latent_dims=[32, 64, 128]):\n",
        "        super().__init__()\n",
        "        self.in_conv = get_3x3(in_channels, base_width)\n",
        "\n",
        "        self.down1 = nn.Sequential(get_3x3(base_width, 64), nn.ReLU(), nn.MaxPool2d(2))  # 16x16 → 8x8\n",
        "        self.down2 = nn.Sequential(get_3x3(64, 128), nn.ReLU(), nn.MaxPool2d(2))  # 8x8 → 4x4\n",
        "\n",
        "        # Latent layers\n",
        "        self.fc_mu1 = nn.Linear(128 * 4 * 4, latent_dims[0])\n",
        "        self.fc_logvar1 = nn.Linear(128 * 4 * 4, latent_dims[0])\n",
        "\n",
        "        self.fc_mu2 = nn.Linear(64 * 8 * 8, latent_dims[1])\n",
        "        self.fc_logvar2 = nn.Linear(64 * 8 * 8, latent_dims[1])\n",
        "\n",
        "        self.fc_mu3 = nn.Linear(32 * 16 * 16, latent_dims[2])\n",
        "        self.fc_logvar3 = nn.Linear(32 * 16 * 16, latent_dims[2])\n",
        "\n",
        "    def forward(self, x):\n",
        "        x0 = self.in_conv(x)\n",
        "        x1 = self.down1(x0)  # Expected: (batch, 64, 8, 8)\n",
        "        x2 = self.down2(x1)  # Expected: (batch, 128, 4, 4)\n",
        "\n",
        "        mu1, logvar1 = self.fc_mu1(x2.view(x2.size(0), -1)), self.fc_logvar1(x2.view(x2.size(0), -1))\n",
        "        mu2, logvar2 = self.fc_mu2(x1.view(x1.size(0), -1)), self.fc_logvar2(x1.view(x1.size(0), -1))\n",
        "        mu3, logvar3 = self.fc_mu3(x0.view(x0.size(0), -1)), self.fc_logvar3(x0.view(x0.size(0), -1))\n",
        "\n",
        "        return [(mu1, logvar1), (mu2, logvar2), (mu3, logvar3)]\n",
        "\n",
        "\n",
        "# Decoder Module\n",
        "class HierarchicalDecoder(nn.Module):\n",
        "    def __init__(self, latent_dims=[32, 64, 128], base_width=32, out_channels=3):\n",
        "        super().__init__()\n",
        "        self.fc1 = nn.Linear(latent_dims[0], 128 * 4 * 4)\n",
        "        self.fc2 = nn.Linear(latent_dims[1], 64 * 8 * 8)\n",
        "        self.fc3 = nn.Linear(latent_dims[2], 32 * 16 * 16)\n",
        "\n",
        "        self.up1 = nn.Sequential(nn.Upsample(scale_factor=2, mode=\"nearest\"), get_3x3(128, 64), nn.ReLU())  # 4x4 → 8x8\n",
        "        #self.up1 = nn.Sequential(nn.ConvTranspose2d(128, 64, kernel_size=4, stride=2, padding=1), nn.ReLU())\n",
        "        self.up2 = nn.Sequential(nn.Upsample(scale_factor=2, mode=\"nearest\"), get_3x3(64, 32), nn.ReLU())  # 8x8 → 16x16\n",
        "        self.up3 = nn.Sequential(nn.Upsample(scale_factor=2, mode=\"nearest\"), get_3x3(32, base_width), nn.ReLU())  # 16x16 → 32x32\n",
        "\n",
        "        self.out_conv = get_3x3(base_width, out_channels)  # output layer\n",
        "\n",
        "    def forward(self, z_hierarchical):\n",
        "        z1, z2, z3 = z_hierarchical\n",
        "\n",
        "        x1 = self.fc1(z1).view(-1, 128, 4, 4)\n",
        "        x1 = self.up1(x1)  # (batch, 64, 8, 8)\n",
        "\n",
        "        x2 = self.fc2(z2).view(-1, 64, 8, 8)\n",
        "        x2 = self.up2(x2)  # (batch, 32, 16, 16)\n",
        "\n",
        "        x3 = self.fc3(z3).view(-1, 32, 16, 16)\n",
        "        x3 = self.up3(x3)  # (batch, base_width, 32, 32)\n",
        "\n",
        "        return torch.sigmoid(self.out_conv(x3))  # Ensure output matches target\n",
        "\n",
        "\n",
        "# Hierarchical VDVAE Model\n",
        "class HierarchicalVDVAE(nn.Module):\n",
        "    def __init__(self, in_channels=3, base_width=32, latent_dims = [64, 128, 256]):\n",
        "        super().__init__()\n",
        "        self.encoder = HierarchicalEncoder(in_channels, base_width, latent_dims)\n",
        "        self.decoder = HierarchicalDecoder(latent_dims, base_width, in_channels)\n",
        "\n",
        "        # Add Linear layers to project latent dimensions before conditioning\n",
        "        self.project_z1 = nn.Linear(latent_dims[0], latent_dims[1])  # Projects 32 → 64\n",
        "        self.project_z2 = nn.Linear(latent_dims[1], latent_dims[2])  # Projects 64 → 128\n",
        "\n",
        "    def forward(self, x):\n",
        "        latents = self.encoder(x)\n",
        "\n",
        "        # Hierarchical latent sampling with projection\n",
        "        z1 = sample_latent(latents[0][0], latents[0][1])\n",
        "        z2 = sample_latent(latents[1][0], latents[1][1], self.project_z1(z1))\n",
        "        z3 = sample_latent(latents[2][0], latents[2][1], self.project_z2(z2))\n",
        "\n",
        "        sampled_latents = [z1, z2, z3]\n",
        "        recon_x = self.decoder(sampled_latents)\n",
        "        return recon_x, latents\n"
      ]
    },
    {
      "cell_type": "code",
      "execution_count": 3,
      "metadata": {},
      "outputs": [
        {
          "name": "stdout",
          "output_type": "stream",
          "text": [
            "cuda\n"
          ]
        }
      ],
      "source": [
        "# device\n",
        "cuda = True\n",
        "DEVICE = torch.device(\"cuda\" if cuda and torch.cuda.is_available() else \"cpu\")\n",
        "print(DEVICE)\n",
        "\n",
        "# data\n",
        "scale_factor = 2\n",
        "image_size = 32\n",
        "num_channels = 3\n",
        "\n",
        "# model\n",
        "latent_dims = [64, 128, 256]\n",
        "#latent_dims = [256, 512,1024]\n",
        "#latent_dims = [128, 256, 512]\n",
        "#latent_dims = [32, 64, 128]\n",
        "\n",
        "# training\n",
        "batch_size = 512\n",
        "num_epochs = 15\n",
        "save_interval = num_epochs\n",
        "validation_interval = 5\n",
        "\n",
        "#checkpointing\n",
        "checkpoint_dir = \"./checkpoints/\"\n",
        "if not os.path.exists(checkpoint_dir):\n",
        "    os.makedirs(checkpoint_dir)"
      ]
    },
    {
      "cell_type": "code",
      "execution_count": 4,
      "metadata": {},
      "outputs": [],
      "source": [
        "from datasets import CIFAR_SR\n",
        "\n",
        "train_dataset = CIFAR_SR(scale_factor=scale_factor, split=\"train\", download=True, device=DEVICE)\n",
        "val_dataset = CIFAR_SR(scale_factor=scale_factor, split=\"test\", download=True, device=DEVICE)\n",
        "\n",
        "train_loader = DataLoader(train_dataset, batch_size=batch_size, shuffle=True)\n",
        "val_loader = DataLoader(val_dataset, batch_size=batch_size, shuffle=False)"
      ]
    },
    {
      "cell_type": "code",
      "execution_count": 5,
      "metadata": {
        "id": "mP9roXbpOMBO"
      },
      "outputs": [],
      "source": [
        "model = HierarchicalVDVAE(in_channels=num_channels, latent_dims=latent_dims).to(DEVICE)\n",
        "\n",
        "optimizer = optim.Adam(model.parameters(), lr=1e-4)\n",
        "scheduler = optim.lr_scheduler.StepLR(optimizer, step_size=10, gamma=0.9)"
      ]
    },
    {
      "cell_type": "code",
      "execution_count": 6,
      "metadata": {
        "id": "mZzdt-L4DDuN"
      },
      "outputs": [
        {
          "name": "stderr",
          "output_type": "stream",
          "text": [
            "c:\\Users\\maxhe\\anaconda3\\envs\\ML\\Lib\\site-packages\\torchvision\\models\\_utils.py:208: UserWarning: The parameter 'pretrained' is deprecated since 0.13 and may be removed in the future, please use 'weights' instead.\n",
            "  warnings.warn(\n",
            "c:\\Users\\maxhe\\anaconda3\\envs\\ML\\Lib\\site-packages\\torchvision\\models\\_utils.py:223: UserWarning: Arguments other than a weight enum or `None` for 'weights' are deprecated since 0.13 and may be removed in the future. The current behavior is equivalent to passing `weights=VGG16_Weights.IMAGENET1K_V1`. You can also use `weights=VGG16_Weights.DEFAULT` to get the most up-to-date weights.\n",
            "  warnings.warn(msg)\n"
          ]
        }
      ],
      "source": [
        "from torchvision import models\n",
        "\n",
        "class PerceptualLoss(nn.Module):\n",
        "    def __init__(self):\n",
        "        super().__init__()\n",
        "        vgg = models.vgg16(pretrained=True).features[:16]  # Use first layers\n",
        "        for param in vgg.parameters():\n",
        "            param.requires_grad = False  # Freeze VGG weights\n",
        "        self.vgg = vgg\n",
        "\n",
        "    def forward(self, pred, target):\n",
        "        pred_features = self.vgg(pred)\n",
        "        target_features = self.vgg(target)\n",
        "        return F.mse_loss(pred_features, target_features, reduction=\"mean\")  # Feature-level loss\n",
        "    \n",
        "perceptual_criterion = PerceptualLoss().to(DEVICE)"
      ]
    },
    {
      "cell_type": "code",
      "execution_count": null,
      "metadata": {},
      "outputs": [],
      "source": [
        "# loss vergleichen (loss weights)\n",
        "# validation metrics during training?\n",
        "\n",
        "# generalize: loss, show_images, model"
      ]
    },
    {
      "cell_type": "code",
      "execution_count": 7,
      "metadata": {},
      "outputs": [],
      "source": [
        "def loss_function(recon_x, x, latents, perceptual_criterion, alpha=1.0, beta=1.0):\n",
        "    # Reconstruction loss\n",
        "    recon_loss = F.mse_loss(recon_x, x, reduction='mean')\n",
        "\n",
        "    # KL divergence\n",
        "    kl_loss = 0\n",
        "    for mu, logvar in latents:\n",
        "        kl_loss += torch.mean(gaussian_kl(mu, logvar, torch.zeros_like(mu), torch.zeros_like(logvar)))\n",
        "    kl_loss /= len(latents)\n",
        "\n",
        "    # Perceptual loss\n",
        "    perceptual_loss = perceptual_criterion(recon_x, x)\n",
        "\n",
        "    # total loss\n",
        "    total_loss = alpha * recon_loss + beta * kl_loss + perceptual_loss\n",
        "    return total_loss, recon_loss, kl_loss, perceptual_loss"
      ]
    },
    {
      "cell_type": "code",
      "execution_count": 16,
      "metadata": {
        "colab": {
          "base_uri": "https://localhost:8080/"
        },
        "id": "v6cNrTkiOVIj",
        "outputId": "6dd04b55-f212-4267-85e3-5b53d5a27925"
      },
      "outputs": [
        {
          "name": "stdout",
          "output_type": "stream",
          "text": [
            "Epoch [1/15] | Time: 61.70s | TotalLoss: 0.006114 | Perceptual: 0.006114 | Recon: 47.252010 | KL: 7.130023\n",
            "Epoch [2/15] | Time: 61.97s | TotalLoss: 0.006013 | Perceptual: 0.006013 | Recon: 45.824802 | KL: 7.139348\n",
            "Epoch [3/15] | Time: 61.05s | TotalLoss: 0.005892 | Perceptual: 0.005892 | Recon: 44.735574 | KL: 7.169300\n",
            "Epoch [4/15] | Time: 63.10s | TotalLoss: 0.005801 | Perceptual: 0.005801 | Recon: 43.765573 | KL: 7.210176\n",
            "Epoch [5/15] | Time: 63.59s | TotalLoss: 0.005715 | Perceptual: 0.005715 | Recon: 42.776376 | KL: 7.244086\n",
            "Validation | TotalLoss: 0.006127 | Perceptual: 0.006127 | Recon: 42.783454 | KL: 7.283006\n",
            "Epoch [6/15] | Time: 62.50s | TotalLoss: 0.005638 | Perceptual: 0.005638 | Recon: 41.989980 | KL: 7.269462\n",
            "Epoch [7/15] | Time: 62.50s | TotalLoss: 0.005571 | Perceptual: 0.005571 | Recon: 41.177252 | KL: 7.284488\n",
            "Epoch [8/15] | Time: 65.19s | TotalLoss: 0.005490 | Perceptual: 0.005490 | Recon: 40.472769 | KL: 7.290793\n",
            "Epoch [9/15] | Time: 59.45s | TotalLoss: 0.005430 | Perceptual: 0.005430 | Recon: 39.801563 | KL: 7.310004\n",
            "Epoch [10/15] | Time: 60.64s | TotalLoss: 0.005361 | Perceptual: 0.005361 | Recon: 39.258060 | KL: 7.320991\n",
            "Validation | TotalLoss: 0.005785 | Perceptual: 0.005785 | Recon: 38.810903 | KL: 7.367083\n",
            "Epoch [11/15] | Time: 61.31s | TotalLoss: 0.005298 | Perceptual: 0.005298 | Recon: 38.626682 | KL: 7.341247\n",
            "Epoch [12/15] | Time: 60.59s | TotalLoss: 0.005239 | Perceptual: 0.005239 | Recon: 38.139758 | KL: 7.347063\n",
            "Epoch [13/15] | Time: 60.94s | TotalLoss: 0.005166 | Perceptual: 0.005166 | Recon: 37.681179 | KL: 7.371088\n",
            "Epoch [14/15] | Time: 62.39s | TotalLoss: 0.005122 | Perceptual: 0.005122 | Recon: 37.266290 | KL: 7.393604\n",
            "Epoch [15/15] | Time: 61.54s | TotalLoss: 0.005075 | Perceptual: 0.005075 | Recon: 36.832858 | KL: 7.406204\n",
            "Validation | TotalLoss: 0.005482 | Perceptual: 0.005482 | Recon: 36.409876 | KL: 7.447034\n",
            "Checkpoint saved: ./checkpoints/vdvae_epoch_15.pth\n",
            "Total Training Time: 957.20s\n"
          ]
        }
      ],
      "source": [
        "total_training_start = time.time()  # Start time for overall training\n",
        "\n",
        "for epoch in range(num_epochs):\n",
        "    epoch_start = time.time()  # Start time for the epoch\n",
        "\n",
        "    model.train()\n",
        "    total_loss, total_recon_loss, total_kl_loss, total_perceptual_loss = [], [], [], []\n",
        "    loss_history = {\"total_loss\": [], \"recon_loss\": [], \"kl_loss\": [], \"perceptual_loss\": []}\n",
        "\n",
        "    # Training\n",
        "    for hr_imgs, lr_imgs in train_loader:\n",
        "\n",
        "        optimizer.zero_grad()\n",
        "        recon_imgs, latents = model(lr_imgs)\n",
        "\n",
        "        # Loss computation\n",
        "        loss, recon_loss, kl_loss, perceptual_loss = loss_function(recon_imgs, hr_imgs, latents, perceptual_criterion, alpha=0, beta=0)\n",
        "\n",
        "        loss.backward()\n",
        "        optimizer.step()\n",
        "\n",
        "        total_loss.append(loss.item())\n",
        "        total_recon_loss.append(recon_loss.item())\n",
        "        total_kl_loss.append(kl_loss.item())\n",
        "        total_perceptual_loss.append(perceptual_loss.item())\n",
        "\n",
        "    scheduler.step()  # Adjust learning rate\n",
        "\n",
        "    epoch_end = time.time()  # End time for the epoch\n",
        "    epoch_time = epoch_end - epoch_start\n",
        "\n",
        "    loss_history[\"total_loss\"].append(np.mean(total_loss))\n",
        "    loss_history[\"recon_loss\"].append(np.mean(total_recon_loss))\n",
        "    loss_history[\"kl_loss\"].append(np.mean(total_kl_loss))\n",
        "    loss_history[\"perceptual_loss\"].append(np.mean(total_perceptual_loss))\n",
        "\n",
        "    print(f\"Epoch [{epoch+1}/{num_epochs}] | Time: {epoch_time:.2f}s | TotalLoss: {loss_history[\"total_loss\"][-1]:.6f} | Perceptual: {loss_history[\"perceptual_loss\"][-1]:.6f} | Recon: {loss_history[\"recon_loss\"][-1]:.6f} | KL: {loss_history[\"kl_loss\"][-1]:.6f}\")\n",
        "\n",
        "    # Validation\n",
        "    if (epoch + 1) % validation_interval == 0:\n",
        "        model.eval()\n",
        "        with torch.no_grad():\n",
        "            total_val_loss, total_val_recon_loss, total_val_kl_loss, total_val_perceptual_loss = [], [], [], []\n",
        "            val_loss_history = {\"total_loss\": [], \"recon_loss\": [], \"kl_loss\": [], \"perceptual_loss\": []}\n",
        "            for hr_imgs, lr_imgs in val_loader:\n",
        "                recon_imgs, latents = model(lr_imgs)\n",
        "\n",
        "                # Loss computation\n",
        "                val_total_loss, val_recon_loss, val_kl_loss, val_perceptual_loss = loss_function(recon_imgs, hr_imgs, latents, perceptual_criterion, alpha=0, beta=0)\n",
        "\n",
        "                total_val_loss.append(val_total_loss.item())\n",
        "                total_val_recon_loss.append(val_recon_loss.item())\n",
        "                total_val_kl_loss.append(val_kl_loss.item())\n",
        "                total_val_perceptual_loss.append(val_perceptual_loss.item())\n",
        "\n",
        "            val_loss_history[\"total_loss\"].append(np.mean(total_val_loss))\n",
        "            val_loss_history[\"recon_loss\"].append(np.mean(total_val_recon_loss))\n",
        "            val_loss_history[\"kl_loss\"].append(np.mean(total_val_kl_loss))\n",
        "            val_loss_history[\"perceptual_loss\"].append(np.mean(total_val_perceptual_loss))\n",
        "\n",
        "            print(f\"Validation | TotalLoss: {val_loss_history[\"total_loss\"][-1]:.6f} | Perceptual: {val_loss_history[\"perceptual_loss\"][-1]:.6f} | Recon: {val_loss_history[\"recon_loss\"][-1]:.6f} | KL: {val_loss_history[\"kl_loss\"][-1]:.6f}\")\n",
        "\n",
        "    # Save checkpoint\n",
        "    if (epoch + 1) % save_interval == 0:\n",
        "        checkpoint_path = os.path.join(checkpoint_dir, f\"vdvae_epoch_{epoch+1}.pth\")\n",
        "        torch.save({\n",
        "            'epoch': epoch + 1,\n",
        "            'model': model.state_dict(),\n",
        "            'optimizer': optimizer.state_dict()\n",
        "        }, checkpoint_path)\n",
        "        print(f\"Checkpoint saved: {checkpoint_path}\")\n",
        "\n",
        "total_training_end = time.time()  # End time for overall training\n",
        "total_training_time = total_training_end - total_training_start\n",
        "print(f\"Total Training Time: {total_training_time:.2f}s\")"
      ]
    },
    {
      "cell_type": "code",
      "execution_count": null,
      "metadata": {},
      "outputs": [
        {
          "ename": "NameError",
          "evalue": "name 'loss_history' is not defined",
          "output_type": "error",
          "traceback": [
            "\u001b[31m---------------------------------------------------------------------------\u001b[39m",
            "\u001b[31mNameError\u001b[39m                                 Traceback (most recent call last)",
            "\u001b[36mCell\u001b[39m\u001b[36m \u001b[39m\u001b[32mIn[11]\u001b[39m\u001b[32m, line 3\u001b[39m\n\u001b[32m      1\u001b[39m \u001b[38;5;66;03m# Plot loss history\u001b[39;00m\n\u001b[32m      2\u001b[39m plt.figure(figsize=(\u001b[32m10\u001b[39m, \u001b[32m5\u001b[39m))\n\u001b[32m----> \u001b[39m\u001b[32m3\u001b[39m plt.plot(\u001b[43mloss_history\u001b[49m[\u001b[33m\"\u001b[39m\u001b[33mtotal_loss\u001b[39m\u001b[33m\"\u001b[39m], label=\u001b[33m\"\u001b[39m\u001b[33mTotal Loss\u001b[39m\u001b[33m\"\u001b[39m)\n\u001b[32m      4\u001b[39m plt.plot(loss_history[\u001b[33m\"\u001b[39m\u001b[33mrecon_loss\u001b[39m\u001b[33m\"\u001b[39m], label=\u001b[33m\"\u001b[39m\u001b[33mReconstruction Loss\u001b[39m\u001b[33m\"\u001b[39m)\n\u001b[32m      5\u001b[39m plt.plot(loss_history[\u001b[33m\"\u001b[39m\u001b[33mkl_loss\u001b[39m\u001b[33m\"\u001b[39m], label=\u001b[33m\"\u001b[39m\u001b[33mKL Divergence\u001b[39m\u001b[33m\"\u001b[39m)\n",
            "\u001b[31mNameError\u001b[39m: name 'loss_history' is not defined"
          ]
        },
        {
          "data": {
            "text/plain": [
              "<Figure size 1000x500 with 0 Axes>"
            ]
          },
          "metadata": {},
          "output_type": "display_data"
        }
      ],
      "source": [
        "# Plot loss history\n",
        "plt.figure(figsize=(10, 5))\n",
        "plt.plot(loss_history[\"total_loss\"], label=\"Total Loss\")\n",
        "# plt.plot(loss_history[\"recon_loss\"], label=\"Reconstruction Loss\")\n",
        "# plt.plot(loss_history[\"kl_loss\"], label=\"KL Divergence\")\n",
        "# plt.plot(loss_history[\"perceptual_loss\"], label=\"Perceptual Loss\")\n",
        "plt.xlabel(\"Epochs\")\n",
        "plt.ylabel(\"Loss\")\n",
        "plt.title(\"Training Losses\")\n",
        "plt.legend()\n",
        "plt.show()"
      ]
    },
    {
      "cell_type": "code",
      "execution_count": null,
      "metadata": {},
      "outputs": [],
      "source": [
        "# Plot validation loss history\n",
        "plt.figure(figsize=(10, 5))\n",
        "plt.plot(val_loss_history[\"total_loss\"], label=\"Total Loss\")\n",
        "# plt.plot(val_loss_history[\"recon_loss\"], label=\"Reconstruction Loss\")\n",
        "# plt.plot(val_loss_history[\"kl_loss\"], label=\"KL Divergence\")\n",
        "# plt.plot(val_loss_history[\"perceptual_loss\"], label=\"Perceptual Loss\")\n",
        "plt.xlabel(\"Epochs\")\n",
        "plt.ylabel(\"Loss\")\n",
        "plt.title(\"Validation Losses\")\n",
        "plt.legend()\n",
        "plt.show()"
      ]
    },
    {
      "cell_type": "code",
      "execution_count": 18,
      "metadata": {
        "colab": {
          "base_uri": "https://localhost:8080/",
          "height": 1000
        },
        "id": "8Y-KnxJ0WIXU",
        "outputId": "efc82183-86ae-49e5-b2f2-c50177ac72ca"
      },
      "outputs": [
        {
          "data": {
            "image/png": "[encoded data removed]",
            "text/plain": [
              "<Figure size 600x1000 with 15 Axes>"
            ]
          },
          "metadata": {},
          "output_type": "display_data"
        }
      ],
      "source": [
        "# Generate and Visualize Random Samples\n",
        "def visualize_samples(model, num_samples=5):\n",
        "    model.eval()\n",
        "    with torch.no_grad():\n",
        "        fig, axs = plt.subplots(num_samples, 3, figsize=(6, num_samples * 2))  # Reduced figure size\n",
        "\n",
        "        # Randomly select `num_samples` indices from the validation dataset\n",
        "        random_indices = random.sample(range(len(val_dataset)), num_samples)\n",
        "\n",
        "        for i, idx in enumerate(random_indices):\n",
        "            hr_img, lr_img = val_dataset[idx]  # Get a random sample\n",
        "            hr_img, lr_img = hr_img.unsqueeze(0), lr_img.unsqueeze(0)\n",
        "\n",
        "            # Predict 32x32 from 16x16 input\n",
        "            recon_img, _ = model(lr_img)\n",
        "\n",
        "            # Convert tensors to numpy for visualization\n",
        "            lr_img_np = lr_img.cpu().numpy().squeeze()  # (3, 16, 16) for color\n",
        "            hr_img_np = hr_img.cpu().numpy().squeeze()  # (3, 32, 32)\n",
        "            recon_img_np = recon_img.cpu().numpy().squeeze()  # (3, 32, 32)\n",
        "\n",
        "            # Permute dimensions from (C, H, W) → (H, W, C) for Matplotlib\n",
        "            lr_img_np = np.transpose(lr_img_np, (1, 2, 0))  # Now (16, 16, 3)\n",
        "            hr_img_np = np.transpose(hr_img_np, (1, 2, 0))  # Now (32, 32, 3)\n",
        "            recon_img_np = np.transpose(recon_img_np, (1, 2, 0))  # Now (32, 32, 3)\n",
        "\n",
        "            # Plot images with smaller size\n",
        "            axs[i, 0].imshow(lr_img_np)\n",
        "            axs[i, 0].set_title(\"16x16 Input\", fontsize=8)\n",
        "            axs[i, 0].axis(\"off\")\n",
        "\n",
        "            axs[i, 1].imshow(recon_img_np)\n",
        "            axs[i, 1].set_title(\"32x32 Prediction\", fontsize=8)\n",
        "            axs[i, 1].axis(\"off\")\n",
        "\n",
        "            axs[i, 2].imshow(hr_img_np)\n",
        "            axs[i, 2].set_title(\"32x32 Ground Truth\", fontsize=8)\n",
        "            axs[i, 2].axis(\"off\")\n",
        "\n",
        "        # Adjust layout for smaller images\n",
        "        plt.subplots_adjust(wspace=0.1, hspace=0.3)  # Reduce space between images\n",
        "        plt.show()\n",
        "\n",
        "# Run visualization\n",
        "visualize_samples(model, num_samples=5)\n"
      ]
    },
    {
      "cell_type": "code",
      "execution_count": 19,
      "metadata": {},
      "outputs": [],
      "source": [
        "from util import save_model\n",
        "\n",
        "save_model(model, \"cifar_vdvae.pth\")"
      ]
    },
    {
      "cell_type": "code",
      "execution_count": 8,
      "metadata": {},
      "outputs": [],
      "source": [
        "from util import load_model\n",
        "\n",
        "model = HierarchicalVDVAE(in_channels=num_channels, latent_dims=latent_dims).to(DEVICE)\n",
        "model = load_model(model, \"cifar_vdvae.pth\")"
      ]
    },
    {
      "cell_type": "code",
      "execution_count": 9,
      "metadata": {},
      "outputs": [],
      "source": [
        "x, x_inp = val_dataset.get_samples(64)\n",
        "x = x.to(DEVICE)\n",
        "x_inp = x_inp.to(DEVICE)\n",
        "x_hat, _ = model(x_inp)"
      ]
    },
    {
      "cell_type": "code",
      "execution_count": 10,
      "metadata": {},
      "outputs": [
        {
          "name": "stdout",
          "output_type": "stream",
          "text": [
            "PSNR: tensor(19.8041, device='cuda:0', grad_fn=<MeanBackward1>)\n",
            "SSIM: tensor(0.5826, device='cuda:0', grad_fn=<MeanBackward0>)\n",
            "LPIPS: tensor(0.2864, device='cuda:0', grad_fn=<MeanBackward1>)\n",
            "BRISQUE: tensor(70.3083, device='cuda:0', grad_fn=<MeanBackward1>)\n",
            "PSNR Consistency: tensor(27.8155, device='cuda:0')\n",
            "MSE Diversity: tensor(0.0125, device='cuda:0', grad_fn=<DivBackward0>)\n",
            "LPIPS Diversity: tensor(0.2840, device='cuda:0', grad_fn=<DivBackward0>)\n"
          ]
        }
      ],
      "source": [
        "from metrics import validation_scores\n",
        "\n",
        "psnr_val, ssim_val, lpips_val, brisque_val, psnr_consistency_val, mse_diversity_val, lpips_diversity_val = validation_scores(model, x, x_inp)\n",
        "print(\"PSNR:\", psnr_val)\n",
        "print(\"SSIM:\", ssim_val.mean())\n",
        "print(\"LPIPS:\", lpips_val)\n",
        "print(\"BRISQUE:\", brisque_val)\n",
        "print(\"PSNR Consistency:\", psnr_consistency_val)\n",
        "print(\"MSE Diversity:\", mse_diversity_val)\n",
        "print(\"LPIPS Diversity:\", lpips_diversity_val)"
      ]
    }
  ],
  "metadata": {
    "accelerator": "GPU",
    "colab": {
      "gpuType": "T4",
      "provenance": []
    },
    "kernelspec": {
      "display_name": "ML",
      "language": "python",
      "name": "python3"
    },
    "language_info": {
      "codemirror_mode": {
        "name": "ipython",
        "version": 3
      },
      "file_extension": ".py",
      "mimetype": "text/x-python",
      "name": "python",
      "nbconvert_exporter": "python",
      "pygments_lexer": "ipython3",
      "version": "3.13.2"
    }
  },
  "nbformat": 4,
  "nbformat_minor": 0
}
